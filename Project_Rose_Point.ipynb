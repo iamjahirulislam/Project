{
  "nbformat": 4,
  "nbformat_minor": 0,
  "metadata": {
    "colab": {
      "name": "Project Rose Point.ipynb",
      "provenance": [],
      "collapsed_sections": [],
      "authorship_tag": "ABX9TyNA4zuNLmlDP86K9XiIV/iw",
      "include_colab_link": true
    },
    "kernelspec": {
      "name": "python3",
      "display_name": "Python 3"
    },
    "language_info": {
      "name": "python"
    }
  },
  "cells": [
    {
      "cell_type": "markdown",
      "metadata": {
        "id": "view-in-github",
        "colab_type": "text"
      },
      "source": [
        "<a href=\"https://colab.research.google.com/github/iamjahirulislam/Project/blob/main/Project_Rose_Point.ipynb\" target=\"_parent\"><img src=\"https://colab.research.google.com/assets/colab-badge.svg\" alt=\"Open In Colab\"/></a>"
      ]
    },
    {
      "cell_type": "markdown",
      "metadata": {
        "id": "UFxoYrgR9KkA"
      },
      "source": [
        "![images.jpg](data:image/jpeg;base64,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)"
      ]
    },
    {
      "cell_type": "markdown",
      "metadata": {
        "id": "PxASkdv29POx"
      },
      "source": [
        "#**Project Rose Point**"
      ]
    },
    {
      "cell_type": "code",
      "metadata": {
        "colab": {
          "base_uri": "https://localhost:8080/"
        },
        "id": "RWJzgc2x9TvL",
        "outputId": "b3528ca5-b757-4b47-c578-a36e8ff271f6"
      },
      "source": [
        "from google.colab import drive\n",
        "drive.mount('/content/gdrive')\n"
      ],
      "execution_count": null,
      "outputs": [
        {
          "output_type": "stream",
          "text": [
            "Drive already mounted at /content/gdrive; to attempt to forcibly remount, call drive.mount(\"/content/gdrive\", force_remount=True).\n"
          ],
          "name": "stdout"
        }
      ]
    },
    {
      "cell_type": "code",
      "metadata": {
        "id": "zKsKRlv79osm"
      },
      "source": [
        "import pandas as pd"
      ],
      "execution_count": null,
      "outputs": []
    },
    {
      "cell_type": "code",
      "metadata": {
        "id": "9Q_JF3tMpD2L"
      },
      "source": [
        "rose = pd.read_csv('gdrive/My Drive/Colab Notebooks/Team_Alpha/alpha.csv')"
      ],
      "execution_count": null,
      "outputs": []
    },
    {
      "cell_type": "code",
      "metadata": {
        "id": "OffFV-ds-t2G",
        "colab": {
          "base_uri": "https://localhost:8080/",
          "height": 246
        },
        "outputId": "535f8707-152c-4b43-920d-5ca6d95bd9f2"
      },
      "source": [
        "rose.head()"
      ],
      "execution_count": null,
      "outputs": [
        {
          "output_type": "execute_result",
          "data": {
            "text/html": [
              "<div>\n",
              "<style scoped>\n",
              "    .dataframe tbody tr th:only-of-type {\n",
              "        vertical-align: middle;\n",
              "    }\n",
              "\n",
              "    .dataframe tbody tr th {\n",
              "        vertical-align: top;\n",
              "    }\n",
              "\n",
              "    .dataframe thead th {\n",
              "        text-align: right;\n",
              "    }\n",
              "</style>\n",
              "<table border=\"1\" class=\"dataframe\">\n",
              "  <thead>\n",
              "    <tr style=\"text-align: right;\">\n",
              "      <th></th>\n",
              "      <th>Name</th>\n",
              "      <th>Email</th>\n",
              "      <th>Age</th>\n",
              "      <th>Sex</th>\n",
              "      <th>Address</th>\n",
              "      <th>Sim_Company</th>\n",
              "      <th>Marital_Status</th>\n",
              "      <th>Religion</th>\n",
              "      <th>Occupation</th>\n",
              "      <th>Preference</th>\n",
              "      <th>Favourite_Flower</th>\n",
              "      <th>Comments</th>\n",
              "    </tr>\n",
              "  </thead>\n",
              "  <tbody>\n",
              "    <tr>\n",
              "      <th>0</th>\n",
              "      <td>Jahirul Islam</td>\n",
              "      <td>jahirul15-2752@diu.edu.bd</td>\n",
              "      <td>23.0</td>\n",
              "      <td>Male</td>\n",
              "      <td>Towns</td>\n",
              "      <td>Banglalink</td>\n",
              "      <td>Single</td>\n",
              "      <td>Islam</td>\n",
              "      <td>Student</td>\n",
              "      <td>Yes</td>\n",
              "      <td>Zinnia</td>\n",
              "      <td>Go Ahead</td>\n",
              "    </tr>\n",
              "    <tr>\n",
              "      <th>1</th>\n",
              "      <td>Asif</td>\n",
              "      <td>asif15-2750@diu.edu.bd</td>\n",
              "      <td>22.0</td>\n",
              "      <td>Male</td>\n",
              "      <td>Major City</td>\n",
              "      <td>Grameenphone</td>\n",
              "      <td>Single</td>\n",
              "      <td>Islam</td>\n",
              "      <td>Student</td>\n",
              "      <td>Yes</td>\n",
              "      <td>Red Rose</td>\n",
              "      <td>NaN</td>\n",
              "    </tr>\n",
              "    <tr>\n",
              "      <th>2</th>\n",
              "      <td>Tasrin Jahan Mishu</td>\n",
              "      <td>tasrin15-2706@diu.edu.bd</td>\n",
              "      <td>21.0</td>\n",
              "      <td>Female</td>\n",
              "      <td>Towns</td>\n",
              "      <td>Grameenphone</td>\n",
              "      <td>Single</td>\n",
              "      <td>Islam</td>\n",
              "      <td>Student</td>\n",
              "      <td>Yes</td>\n",
              "      <td>White daisy</td>\n",
              "      <td>It was interesting</td>\n",
              "    </tr>\n",
              "    <tr>\n",
              "      <th>3</th>\n",
              "      <td>Nadia Rahman</td>\n",
              "      <td>nadia15-2763@diu.edu.bd</td>\n",
              "      <td>21.0</td>\n",
              "      <td>Female</td>\n",
              "      <td>Urban Area</td>\n",
              "      <td>Grameenphone</td>\n",
              "      <td>Single</td>\n",
              "      <td>Islam</td>\n",
              "      <td>Student</td>\n",
              "      <td>No</td>\n",
              "      <td>I Don't like flower</td>\n",
              "      <td>Thank you</td>\n",
              "    </tr>\n",
              "    <tr>\n",
              "      <th>4</th>\n",
              "      <td>Fatima yesmin</td>\n",
              "      <td>fatima15-1850@diu.edu.bd</td>\n",
              "      <td>22.0</td>\n",
              "      <td>Female</td>\n",
              "      <td>City</td>\n",
              "      <td>Grameenphone</td>\n",
              "      <td>Single</td>\n",
              "      <td>Islam</td>\n",
              "      <td>Student</td>\n",
              "      <td>Yes</td>\n",
              "      <td>Red Rose</td>\n",
              "      <td>Not yet</td>\n",
              "    </tr>\n",
              "  </tbody>\n",
              "</table>\n",
              "</div>"
            ],
            "text/plain": [
              "                  Name  ...             Comments\n",
              "0        Jahirul Islam  ...             Go Ahead\n",
              "1                 Asif  ...                  NaN\n",
              "2  Tasrin Jahan Mishu   ...  It was interesting \n",
              "3         Nadia Rahman  ...            Thank you\n",
              "4        Fatima yesmin  ...              Not yet\n",
              "\n",
              "[5 rows x 12 columns]"
            ]
          },
          "metadata": {
            "tags": []
          },
          "execution_count": 99
        }
      ]
    },
    {
      "cell_type": "code",
      "metadata": {
        "id": "9EZeoig69Mo1",
        "colab": {
          "base_uri": "https://localhost:8080/"
        },
        "outputId": "f36e61df-01e2-4eaf-bb04-ee814679cdf8"
      },
      "source": [
        "rose.shape"
      ],
      "execution_count": null,
      "outputs": [
        {
          "output_type": "execute_result",
          "data": {
            "text/plain": [
              "(404, 12)"
            ]
          },
          "metadata": {
            "tags": []
          },
          "execution_count": 100
        }
      ]
    },
    {
      "cell_type": "code",
      "metadata": {
        "colab": {
          "base_uri": "https://localhost:8080/"
        },
        "id": "GbUcOqE5PGKX",
        "outputId": "a8e3d30c-8135-4661-abac-c237d8f27479"
      },
      "source": [
        "rose.isnull().sum()"
      ],
      "execution_count": null,
      "outputs": [
        {
          "output_type": "execute_result",
          "data": {
            "text/plain": [
              "Name                  0\n",
              "Email                 0\n",
              "Age                  17\n",
              "Sex                   0\n",
              "Address               0\n",
              "Sim_Company           0\n",
              "Marital_Status        0\n",
              "Religion              0\n",
              "Occupation            0\n",
              "Preference            0\n",
              "Favourite_Flower      0\n",
              "Comments            324\n",
              "dtype: int64"
            ]
          },
          "metadata": {
            "tags": []
          },
          "execution_count": 101
        }
      ]
    },
    {
      "cell_type": "code",
      "metadata": {
        "id": "T08g9aDASNb2",
        "colab": {
          "base_uri": "https://localhost:8080/"
        },
        "outputId": "40787349-f82c-4e82-a5f9-a018ef1b6da1"
      },
      "source": [
        "rose.info()"
      ],
      "execution_count": null,
      "outputs": [
        {
          "output_type": "stream",
          "text": [
            "<class 'pandas.core.frame.DataFrame'>\n",
            "RangeIndex: 404 entries, 0 to 403\n",
            "Data columns (total 12 columns):\n",
            " #   Column            Non-Null Count  Dtype  \n",
            "---  ------            --------------  -----  \n",
            " 0   Name              404 non-null    object \n",
            " 1   Email             404 non-null    object \n",
            " 2   Age               387 non-null    float64\n",
            " 3   Sex               404 non-null    object \n",
            " 4   Address           404 non-null    object \n",
            " 5   Sim_Company       404 non-null    object \n",
            " 6   Marital_Status    404 non-null    object \n",
            " 7   Religion          404 non-null    object \n",
            " 8   Occupation        404 non-null    object \n",
            " 9   Preference        404 non-null    object \n",
            " 10  Favourite_Flower  404 non-null    object \n",
            " 11  Comments          80 non-null     object \n",
            "dtypes: float64(1), object(11)\n",
            "memory usage: 38.0+ KB\n"
          ],
          "name": "stdout"
        }
      ]
    },
    {
      "cell_type": "markdown",
      "metadata": {
        "id": "juSeap13mmoU"
      },
      "source": [
        "#**Show count of null vaules in a column**"
      ]
    },
    {
      "cell_type": "code",
      "metadata": {
        "id": "Tw5wTPEQSVhZ",
        "colab": {
          "base_uri": "https://localhost:8080/"
        },
        "outputId": "4218ac88-fcf7-483b-81de-3e433529495a"
      },
      "source": [
        "rose.isnull().sum()"
      ],
      "execution_count": null,
      "outputs": [
        {
          "output_type": "execute_result",
          "data": {
            "text/plain": [
              "Name                  0\n",
              "Email                 0\n",
              "Age                  17\n",
              "Sex                   0\n",
              "Address               0\n",
              "Sim_Company           0\n",
              "Marital_Status        0\n",
              "Religion              0\n",
              "Occupation            0\n",
              "Preference            0\n",
              "Favourite_Flower      0\n",
              "Comments            324\n",
              "dtype: int64"
            ]
          },
          "metadata": {
            "tags": []
          },
          "execution_count": 103
        }
      ]
    },
    {
      "cell_type": "markdown",
      "metadata": {
        "id": "FzzCMJuxmxsI"
      },
      "source": [
        "#**Import matplotlib & seaborn for data visualization**"
      ]
    },
    {
      "cell_type": "code",
      "metadata": {
        "id": "PKPiu2GkSrRg"
      },
      "source": [
        "import matplotlib.pyplot as plt\n",
        "%matplotlib inline\n",
        "import seaborn as sns\n",
        "sns.set()"
      ],
      "execution_count": null,
      "outputs": []
    },
    {
      "cell_type": "code",
      "metadata": {
        "id": "x3tLBzWCYMrP"
      },
      "source": [
        "rose_test_data = [rose]\n"
      ],
      "execution_count": null,
      "outputs": []
    },
    {
      "cell_type": "markdown",
      "metadata": {
        "id": "Sz9WpxHZm_4y"
      },
      "source": [
        "#**Mapping dataset for data proccessing**"
      ]
    },
    {
      "cell_type": "code",
      "metadata": {
        "id": "6l8ZtkPpYXzB"
      },
      "source": [
        "p_mapping = {\"No\": 0, \"Yes\": 1}"
      ],
      "execution_count": null,
      "outputs": []
    },
    {
      "cell_type": "code",
      "metadata": {
        "id": "39-ZEFvBcQGk"
      },
      "source": [
        "for dataset in rose_test_data:\n",
        "  dataset[\"Preference\"] = dataset[\"Preference\"].map(p_mapping)"
      ],
      "execution_count": null,
      "outputs": []
    },
    {
      "cell_type": "code",
      "metadata": {
        "id": "nMwu_PIqft54",
        "colab": {
          "base_uri": "https://localhost:8080/",
          "height": 246
        },
        "outputId": "9889a979-bdcb-4353-915f-883d40ec528a"
      },
      "source": [
        "rose.head()"
      ],
      "execution_count": null,
      "outputs": [
        {
          "output_type": "execute_result",
          "data": {
            "text/html": [
              "<div>\n",
              "<style scoped>\n",
              "    .dataframe tbody tr th:only-of-type {\n",
              "        vertical-align: middle;\n",
              "    }\n",
              "\n",
              "    .dataframe tbody tr th {\n",
              "        vertical-align: top;\n",
              "    }\n",
              "\n",
              "    .dataframe thead th {\n",
              "        text-align: right;\n",
              "    }\n",
              "</style>\n",
              "<table border=\"1\" class=\"dataframe\">\n",
              "  <thead>\n",
              "    <tr style=\"text-align: right;\">\n",
              "      <th></th>\n",
              "      <th>Name</th>\n",
              "      <th>Email</th>\n",
              "      <th>Age</th>\n",
              "      <th>Sex</th>\n",
              "      <th>Address</th>\n",
              "      <th>Sim_Company</th>\n",
              "      <th>Marital_Status</th>\n",
              "      <th>Religion</th>\n",
              "      <th>Occupation</th>\n",
              "      <th>Preference</th>\n",
              "      <th>Favourite_Flower</th>\n",
              "      <th>Comments</th>\n",
              "    </tr>\n",
              "  </thead>\n",
              "  <tbody>\n",
              "    <tr>\n",
              "      <th>0</th>\n",
              "      <td>Jahirul Islam</td>\n",
              "      <td>jahirul15-2752@diu.edu.bd</td>\n",
              "      <td>23.0</td>\n",
              "      <td>Male</td>\n",
              "      <td>Towns</td>\n",
              "      <td>Banglalink</td>\n",
              "      <td>Single</td>\n",
              "      <td>Islam</td>\n",
              "      <td>Student</td>\n",
              "      <td>1</td>\n",
              "      <td>Zinnia</td>\n",
              "      <td>Go Ahead</td>\n",
              "    </tr>\n",
              "    <tr>\n",
              "      <th>1</th>\n",
              "      <td>Asif</td>\n",
              "      <td>asif15-2750@diu.edu.bd</td>\n",
              "      <td>22.0</td>\n",
              "      <td>Male</td>\n",
              "      <td>Major City</td>\n",
              "      <td>Grameenphone</td>\n",
              "      <td>Single</td>\n",
              "      <td>Islam</td>\n",
              "      <td>Student</td>\n",
              "      <td>1</td>\n",
              "      <td>Red Rose</td>\n",
              "      <td>NaN</td>\n",
              "    </tr>\n",
              "    <tr>\n",
              "      <th>2</th>\n",
              "      <td>Tasrin Jahan Mishu</td>\n",
              "      <td>tasrin15-2706@diu.edu.bd</td>\n",
              "      <td>21.0</td>\n",
              "      <td>Female</td>\n",
              "      <td>Towns</td>\n",
              "      <td>Grameenphone</td>\n",
              "      <td>Single</td>\n",
              "      <td>Islam</td>\n",
              "      <td>Student</td>\n",
              "      <td>1</td>\n",
              "      <td>White daisy</td>\n",
              "      <td>It was interesting</td>\n",
              "    </tr>\n",
              "    <tr>\n",
              "      <th>3</th>\n",
              "      <td>Nadia Rahman</td>\n",
              "      <td>nadia15-2763@diu.edu.bd</td>\n",
              "      <td>21.0</td>\n",
              "      <td>Female</td>\n",
              "      <td>Urban Area</td>\n",
              "      <td>Grameenphone</td>\n",
              "      <td>Single</td>\n",
              "      <td>Islam</td>\n",
              "      <td>Student</td>\n",
              "      <td>0</td>\n",
              "      <td>I Don't like flower</td>\n",
              "      <td>Thank you</td>\n",
              "    </tr>\n",
              "    <tr>\n",
              "      <th>4</th>\n",
              "      <td>Fatima yesmin</td>\n",
              "      <td>fatima15-1850@diu.edu.bd</td>\n",
              "      <td>22.0</td>\n",
              "      <td>Female</td>\n",
              "      <td>City</td>\n",
              "      <td>Grameenphone</td>\n",
              "      <td>Single</td>\n",
              "      <td>Islam</td>\n",
              "      <td>Student</td>\n",
              "      <td>1</td>\n",
              "      <td>Red Rose</td>\n",
              "      <td>Not yet</td>\n",
              "    </tr>\n",
              "  </tbody>\n",
              "</table>\n",
              "</div>"
            ],
            "text/plain": [
              "                  Name  ...             Comments\n",
              "0        Jahirul Islam  ...             Go Ahead\n",
              "1                 Asif  ...                  NaN\n",
              "2  Tasrin Jahan Mishu   ...  It was interesting \n",
              "3         Nadia Rahman  ...            Thank you\n",
              "4        Fatima yesmin  ...              Not yet\n",
              "\n",
              "[5 rows x 12 columns]"
            ]
          },
          "metadata": {
            "tags": []
          },
          "execution_count": 108
        }
      ]
    },
    {
      "cell_type": "markdown",
      "metadata": {
        "id": "zSy_pPofnMh1"
      },
      "source": [
        "#**Create a function to visualization dataset**"
      ]
    },
    {
      "cell_type": "code",
      "metadata": {
        "id": "EhA9qgJSS2Vt"
      },
      "source": [
        "def bar_chart(feature):\n",
        "  like = rose[rose['Preference']==1][feature].value_counts()\n",
        "  dislike = rose[rose['Preference']==0][feature].value_counts()\n",
        "  df = pd.DataFrame([like,dislike])\n",
        "  df.index = ['Like','Dislike']\n",
        "  df.plot(kind = 'bar',stacked=True, figsize=(10,5))"
      ],
      "execution_count": null,
      "outputs": []
    },
    {
      "cell_type": "code",
      "metadata": {
        "id": "mXiUx61WfR93",
        "colab": {
          "base_uri": "https://localhost:8080/",
          "height": 349
        },
        "outputId": "34160839-450b-45fe-fad1-544264339314"
      },
      "source": [
        "bar_chart(\"Sex\")"
      ],
      "execution_count": null,
      "outputs": [
        {
          "output_type": "display_data",
          "data": {
            "image/png": "[encoded data removed]",
            "text/plain": [
              "<Figure size 720x360 with 1 Axes>"
            ]
          },
          "metadata": {
            "tags": []
          }
        }
      ]
    },
    {
      "cell_type": "code",
      "metadata": {
        "colab": {
          "base_uri": "https://localhost:8080/"
        },
        "id": "KwlYR1s2J8hX",
        "outputId": "7aecfb19-5df5-4124-de46-a11ec8a53b11"
      },
      "source": [
        "rose.isnull().sum()"
      ],
      "execution_count": null,
      "outputs": [
        {
          "output_type": "execute_result",
          "data": {
            "text/plain": [
              "Name                  0\n",
              "Email                 0\n",
              "Age                  17\n",
              "Sex                   0\n",
              "Address               0\n",
              "Sim_Company           0\n",
              "Marital_Status        0\n",
              "Religion              0\n",
              "Occupation            0\n",
              "Preference            0\n",
              "Favourite_Flower      0\n",
              "Comments            324\n",
              "dtype: int64"
            ]
          },
          "metadata": {
            "tags": []
          },
          "execution_count": 111
        }
      ]
    },
    {
      "cell_type": "code",
      "metadata": {
        "colab": {
          "base_uri": "https://localhost:8080/"
        },
        "id": "w-fWvWftD-57",
        "outputId": "b7707283-b96a-4029-9b6d-f05134e23730"
      },
      "source": [
        "rose['Sex'].value_counts()"
      ],
      "execution_count": null,
      "outputs": [
        {
          "output_type": "execute_result",
          "data": {
            "text/plain": [
              "Male      216\n",
              "Female    188\n",
              "Name: Sex, dtype: int64"
            ]
          },
          "metadata": {
            "tags": []
          },
          "execution_count": 112
        }
      ]
    },
    {
      "cell_type": "code",
      "metadata": {
        "id": "sl_o0hYngG2-"
      },
      "source": [
        "sex_mapping = {\"Male\": 0, \"Female\": 1}\n",
        "for dataset in rose_test_data:\n",
        "    dataset['Sex'] = dataset['Sex'].map(sex_mapping)"
      ],
      "execution_count": null,
      "outputs": []
    },
    {
      "cell_type": "code",
      "metadata": {
        "id": "YUfW--TXgMiM",
        "colab": {
          "base_uri": "https://localhost:8080/",
          "height": 349
        },
        "outputId": "381177b5-5349-440f-8c8d-46772e172cbd"
      },
      "source": [
        "bar_chart(\"Sex\")"
      ],
      "execution_count": null,
      "outputs": [
        {
          "output_type": "display_data",
          "data": {
            "image/png": "[encoded data removed]",
            "text/plain": [
              "<Figure size 720x360 with 1 Axes>"
            ]
          },
          "metadata": {
            "tags": []
          }
        }
      ]
    },
    {
      "cell_type": "code",
      "metadata": {
        "id": "7m98GF_tclzZ",
        "colab": {
          "base_uri": "https://localhost:8080/",
          "height": 404
        },
        "outputId": "c00fe5cb-a85b-4b15-e6e3-aaf6c7ca9d2a"
      },
      "source": [
        "rose.head(100)"
      ],
      "execution_count": null,
      "outputs": [
        {
          "output_type": "execute_result",
          "data": {
            "text/html": [
              "<div>\n",
              "<style scoped>\n",
              "    .dataframe tbody tr th:only-of-type {\n",
              "        vertical-align: middle;\n",
              "    }\n",
              "\n",
              "    .dataframe tbody tr th {\n",
              "        vertical-align: top;\n",
              "    }\n",
              "\n",
              "    .dataframe thead th {\n",
              "        text-align: right;\n",
              "    }\n",
              "</style>\n",
              "<table border=\"1\" class=\"dataframe\">\n",
              "  <thead>\n",
              "    <tr style=\"text-align: right;\">\n",
              "      <th></th>\n",
              "      <th>Name</th>\n",
              "      <th>Email</th>\n",
              "      <th>Age</th>\n",
              "      <th>Sex</th>\n",
              "      <th>Address</th>\n",
              "      <th>Sim_Company</th>\n",
              "      <th>Marital_Status</th>\n",
              "      <th>Religion</th>\n",
              "      <th>Occupation</th>\n",
              "      <th>Preference</th>\n",
              "      <th>Favourite_Flower</th>\n",
              "      <th>Comments</th>\n",
              "    </tr>\n",
              "  </thead>\n",
              "  <tbody>\n",
              "    <tr>\n",
              "      <th>0</th>\n",
              "      <td>Jahirul Islam</td>\n",
              "      <td>jahirul15-2752@diu.edu.bd</td>\n",
              "      <td>23.0</td>\n",
              "      <td>0</td>\n",
              "      <td>Towns</td>\n",
              "      <td>Banglalink</td>\n",
              "      <td>Single</td>\n",
              "      <td>Islam</td>\n",
              "      <td>Student</td>\n",
              "      <td>1</td>\n",
              "      <td>Zinnia</td>\n",
              "      <td>Go Ahead</td>\n",
              "    </tr>\n",
              "    <tr>\n",
              "      <th>1</th>\n",
              "      <td>Asif</td>\n",
              "      <td>asif15-2750@diu.edu.bd</td>\n",
              "      <td>22.0</td>\n",
              "      <td>0</td>\n",
              "      <td>Major City</td>\n",
              "      <td>Grameenphone</td>\n",
              "      <td>Single</td>\n",
              "      <td>Islam</td>\n",
              "      <td>Student</td>\n",
              "      <td>1</td>\n",
              "      <td>Red Rose</td>\n",
              "      <td>NaN</td>\n",
              "    </tr>\n",
              "    <tr>\n",
              "      <th>2</th>\n",
              "      <td>Tasrin Jahan Mishu</td>\n",
              "      <td>tasrin15-2706@diu.edu.bd</td>\n",
              "      <td>21.0</td>\n",
              "      <td>1</td>\n",
              "      <td>Towns</td>\n",
              "      <td>Grameenphone</td>\n",
              "      <td>Single</td>\n",
              "      <td>Islam</td>\n",
              "      <td>Student</td>\n",
              "      <td>1</td>\n",
              "      <td>White daisy</td>\n",
              "      <td>It was interesting</td>\n",
              "    </tr>\n",
              "    <tr>\n",
              "      <th>3</th>\n",
              "      <td>Nadia Rahman</td>\n",
              "      <td>nadia15-2763@diu.edu.bd</td>\n",
              "      <td>21.0</td>\n",
              "      <td>1</td>\n",
              "      <td>Urban Area</td>\n",
              "      <td>Grameenphone</td>\n",
              "      <td>Single</td>\n",
              "      <td>Islam</td>\n",
              "      <td>Student</td>\n",
              "      <td>0</td>\n",
              "      <td>I Don't like flower</td>\n",
              "      <td>Thank you</td>\n",
              "    </tr>\n",
              "    <tr>\n",
              "      <th>4</th>\n",
              "      <td>Fatima yesmin</td>\n",
              "      <td>fatima15-1850@diu.edu.bd</td>\n",
              "      <td>22.0</td>\n",
              "      <td>1</td>\n",
              "      <td>City</td>\n",
              "      <td>Grameenphone</td>\n",
              "      <td>Single</td>\n",
              "      <td>Islam</td>\n",
              "      <td>Student</td>\n",
              "      <td>1</td>\n",
              "      <td>Red Rose</td>\n",
              "      <td>Not yet</td>\n",
              "    </tr>\n",
              "    <tr>\n",
              "      <th>...</th>\n",
              "      <td>...</td>\n",
              "      <td>...</td>\n",
              "      <td>...</td>\n",
              "      <td>...</td>\n",
              "      <td>...</td>\n",
              "      <td>...</td>\n",
              "      <td>...</td>\n",
              "      <td>...</td>\n",
              "      <td>...</td>\n",
              "      <td>...</td>\n",
              "      <td>...</td>\n",
              "      <td>...</td>\n",
              "    </tr>\n",
              "    <tr>\n",
              "      <th>95</th>\n",
              "      <td>Pervez Ahmed</td>\n",
              "      <td>pervez477@yahoo.com</td>\n",
              "      <td>19.0</td>\n",
              "      <td>0</td>\n",
              "      <td>Towns</td>\n",
              "      <td>Robi</td>\n",
              "      <td>Single</td>\n",
              "      <td>Islam</td>\n",
              "      <td>Student</td>\n",
              "      <td>0</td>\n",
              "      <td>I Don't like flower</td>\n",
              "      <td>NaN</td>\n",
              "    </tr>\n",
              "    <tr>\n",
              "      <th>96</th>\n",
              "      <td>Minhaz Kari</td>\n",
              "      <td>minhaz5633@gmail.com</td>\n",
              "      <td>28.0</td>\n",
              "      <td>0</td>\n",
              "      <td>Towns</td>\n",
              "      <td>Banglalink</td>\n",
              "      <td>Single</td>\n",
              "      <td>Islam</td>\n",
              "      <td>Student</td>\n",
              "      <td>1</td>\n",
              "      <td>Zinnia</td>\n",
              "      <td>NaN</td>\n",
              "    </tr>\n",
              "    <tr>\n",
              "      <th>97</th>\n",
              "      <td>Billal Kari</td>\n",
              "      <td>billahkari7886@yahoo.com</td>\n",
              "      <td>27.0</td>\n",
              "      <td>0</td>\n",
              "      <td>Urban Area</td>\n",
              "      <td>Banglalink</td>\n",
              "      <td>Single</td>\n",
              "      <td>Islam</td>\n",
              "      <td>Student</td>\n",
              "      <td>0</td>\n",
              "      <td>I Don't like flower</td>\n",
              "      <td>Carry on bro</td>\n",
              "    </tr>\n",
              "    <tr>\n",
              "      <th>98</th>\n",
              "      <td>Mohima</td>\n",
              "      <td>mohima76@gmail.com</td>\n",
              "      <td>29.0</td>\n",
              "      <td>1</td>\n",
              "      <td>Village</td>\n",
              "      <td>Grameenphone</td>\n",
              "      <td>Single</td>\n",
              "      <td>Islam</td>\n",
              "      <td>Jobless</td>\n",
              "      <td>1</td>\n",
              "      <td>Beli</td>\n",
              "      <td>NaN</td>\n",
              "    </tr>\n",
              "    <tr>\n",
              "      <th>99</th>\n",
              "      <td>Moon</td>\n",
              "      <td>moon45@gamil.com</td>\n",
              "      <td>35.0</td>\n",
              "      <td>0</td>\n",
              "      <td>Village</td>\n",
              "      <td>Teletalk</td>\n",
              "      <td>Married</td>\n",
              "      <td>Chirstan</td>\n",
              "      <td>Work</td>\n",
              "      <td>1</td>\n",
              "      <td>Zinnia</td>\n",
              "      <td>Carry on</td>\n",
              "    </tr>\n",
              "  </tbody>\n",
              "</table>\n",
              "<p>100 rows × 12 columns</p>\n",
              "</div>"
            ],
            "text/plain": [
              "                   Name  ...             Comments\n",
              "0         Jahirul Islam  ...             Go Ahead\n",
              "1                  Asif  ...                  NaN\n",
              "2   Tasrin Jahan Mishu   ...  It was interesting \n",
              "3          Nadia Rahman  ...            Thank you\n",
              "4         Fatima yesmin  ...              Not yet\n",
              "..                  ...  ...                  ...\n",
              "95         Pervez Ahmed  ...                  NaN\n",
              "96          Minhaz Kari  ...                  NaN\n",
              "97          Billal Kari  ...         Carry on bro\n",
              "98              Mohima   ...                  NaN\n",
              "99                 Moon  ...             Carry on\n",
              "\n",
              "[100 rows x 12 columns]"
            ]
          },
          "metadata": {
            "tags": []
          },
          "execution_count": 115
        }
      ]
    },
    {
      "cell_type": "code",
      "metadata": {
        "id": "M7n2RRnmiCoP",
        "colab": {
          "base_uri": "https://localhost:8080/",
          "height": 349
        },
        "outputId": "162452f9-0c74-4d64-9adf-0ac82c28630b"
      },
      "source": [
        "bar_chart(\"Address\")"
      ],
      "execution_count": null,
      "outputs": [
        {
          "output_type": "display_data",
          "data": {
            "image/png": "[encoded data removed]",
            "text/plain": [
              "<Figure size 720x360 with 1 Axes>"
            ]
          },
          "metadata": {
            "tags": []
          }
        }
      ]
    },
    {
      "cell_type": "code",
      "metadata": {
        "id": "17mRRp5Qjix1",
        "colab": {
          "base_uri": "https://localhost:8080/"
        },
        "outputId": "d9189989-175a-4952-a5dd-90a87e805b1a"
      },
      "source": [
        "rose['Address'].value_counts()"
      ],
      "execution_count": null,
      "outputs": [
        {
          "output_type": "execute_result",
          "data": {
            "text/plain": [
              "Towns         142\n",
              "City          100\n",
              "Major City     92\n",
              "Urban Area     55\n",
              "Village        12\n",
              "Savar DOHS      3\n",
              "Name: Address, dtype: int64"
            ]
          },
          "metadata": {
            "tags": []
          },
          "execution_count": 117
        }
      ]
    },
    {
      "cell_type": "code",
      "metadata": {
        "id": "IA-x90vpi5lh"
      },
      "source": [
        "ad_mapping = {\"Towns\":2,\"Major City\":1,\n",
        "              \"City\":3,\"Savar DOHS\":3,\"Village\":0,\"Urban Area\":0}"
      ],
      "execution_count": null,
      "outputs": []
    },
    {
      "cell_type": "code",
      "metadata": {
        "id": "w-KyiNr2ktry"
      },
      "source": [
        "for dataset in rose_test_data:\n",
        "    dataset['Address'] = dataset['Address'].map(ad_mapping)"
      ],
      "execution_count": null,
      "outputs": []
    },
    {
      "cell_type": "code",
      "metadata": {
        "id": "Ye13D2vKlDsY",
        "colab": {
          "base_uri": "https://localhost:8080/",
          "height": 349
        },
        "outputId": "d92309a5-3208-4773-ccac-94e911ae0287"
      },
      "source": [
        "bar_chart(\"Address\")"
      ],
      "execution_count": null,
      "outputs": [
        {
          "output_type": "display_data",
          "data": {
            "image/png": "[encoded data removed]",
            "text/plain": [
              "<Figure size 720x360 with 1 Axes>"
            ]
          },
          "metadata": {
            "tags": []
          }
        }
      ]
    },
    {
      "cell_type": "code",
      "metadata": {
        "id": "w8Jy2UVkltw3",
        "colab": {
          "base_uri": "https://localhost:8080/",
          "height": 196
        },
        "outputId": "1a2fd8ad-f697-42c8-a2e3-27ba32a68f82"
      },
      "source": [
        "rose.head()"
      ],
      "execution_count": null,
      "outputs": [
        {
          "output_type": "execute_result",
          "data": {
            "text/html": [
              "<div>\n",
              "<style scoped>\n",
              "    .dataframe tbody tr th:only-of-type {\n",
              "        vertical-align: middle;\n",
              "    }\n",
              "\n",
              "    .dataframe tbody tr th {\n",
              "        vertical-align: top;\n",
              "    }\n",
              "\n",
              "    .dataframe thead th {\n",
              "        text-align: right;\n",
              "    }\n",
              "</style>\n",
              "<table border=\"1\" class=\"dataframe\">\n",
              "  <thead>\n",
              "    <tr style=\"text-align: right;\">\n",
              "      <th></th>\n",
              "      <th>Name</th>\n",
              "      <th>Email</th>\n",
              "      <th>Age</th>\n",
              "      <th>Sex</th>\n",
              "      <th>Address</th>\n",
              "      <th>Sim_Company</th>\n",
              "      <th>Marital_Status</th>\n",
              "      <th>Religion</th>\n",
              "      <th>Occupation</th>\n",
              "      <th>Preference</th>\n",
              "      <th>Favourite_Flower</th>\n",
              "      <th>Comments</th>\n",
              "    </tr>\n",
              "  </thead>\n",
              "  <tbody>\n",
              "    <tr>\n",
              "      <th>0</th>\n",
              "      <td>Jahirul Islam</td>\n",
              "      <td>jahirul15-2752@diu.edu.bd</td>\n",
              "      <td>23.0</td>\n",
              "      <td>0</td>\n",
              "      <td>2</td>\n",
              "      <td>Banglalink</td>\n",
              "      <td>Single</td>\n",
              "      <td>Islam</td>\n",
              "      <td>Student</td>\n",
              "      <td>1</td>\n",
              "      <td>Zinnia</td>\n",
              "      <td>Go Ahead</td>\n",
              "    </tr>\n",
              "    <tr>\n",
              "      <th>1</th>\n",
              "      <td>Asif</td>\n",
              "      <td>asif15-2750@diu.edu.bd</td>\n",
              "      <td>22.0</td>\n",
              "      <td>0</td>\n",
              "      <td>1</td>\n",
              "      <td>Grameenphone</td>\n",
              "      <td>Single</td>\n",
              "      <td>Islam</td>\n",
              "      <td>Student</td>\n",
              "      <td>1</td>\n",
              "      <td>Red Rose</td>\n",
              "      <td>NaN</td>\n",
              "    </tr>\n",
              "    <tr>\n",
              "      <th>2</th>\n",
              "      <td>Tasrin Jahan Mishu</td>\n",
              "      <td>tasrin15-2706@diu.edu.bd</td>\n",
              "      <td>21.0</td>\n",
              "      <td>1</td>\n",
              "      <td>2</td>\n",
              "      <td>Grameenphone</td>\n",
              "      <td>Single</td>\n",
              "      <td>Islam</td>\n",
              "      <td>Student</td>\n",
              "      <td>1</td>\n",
              "      <td>White daisy</td>\n",
              "      <td>It was interesting</td>\n",
              "    </tr>\n",
              "    <tr>\n",
              "      <th>3</th>\n",
              "      <td>Nadia Rahman</td>\n",
              "      <td>nadia15-2763@diu.edu.bd</td>\n",
              "      <td>21.0</td>\n",
              "      <td>1</td>\n",
              "      <td>0</td>\n",
              "      <td>Grameenphone</td>\n",
              "      <td>Single</td>\n",
              "      <td>Islam</td>\n",
              "      <td>Student</td>\n",
              "      <td>0</td>\n",
              "      <td>I Don't like flower</td>\n",
              "      <td>Thank you</td>\n",
              "    </tr>\n",
              "    <tr>\n",
              "      <th>4</th>\n",
              "      <td>Fatima yesmin</td>\n",
              "      <td>fatima15-1850@diu.edu.bd</td>\n",
              "      <td>22.0</td>\n",
              "      <td>1</td>\n",
              "      <td>3</td>\n",
              "      <td>Grameenphone</td>\n",
              "      <td>Single</td>\n",
              "      <td>Islam</td>\n",
              "      <td>Student</td>\n",
              "      <td>1</td>\n",
              "      <td>Red Rose</td>\n",
              "      <td>Not yet</td>\n",
              "    </tr>\n",
              "  </tbody>\n",
              "</table>\n",
              "</div>"
            ],
            "text/plain": [
              "                  Name  ...             Comments\n",
              "0        Jahirul Islam  ...             Go Ahead\n",
              "1                 Asif  ...                  NaN\n",
              "2  Tasrin Jahan Mishu   ...  It was interesting \n",
              "3         Nadia Rahman  ...            Thank you\n",
              "4        Fatima yesmin  ...              Not yet\n",
              "\n",
              "[5 rows x 12 columns]"
            ]
          },
          "metadata": {
            "tags": []
          },
          "execution_count": 121
        }
      ]
    },
    {
      "cell_type": "code",
      "metadata": {
        "colab": {
          "base_uri": "https://localhost:8080/"
        },
        "id": "zEOR_Zu0EQ7J",
        "outputId": "7a79e3ea-eac3-48e2-dd8f-5a31744162ed"
      },
      "source": [
        "rose['Marital_Status'].value_counts()"
      ],
      "execution_count": null,
      "outputs": [
        {
          "output_type": "execute_result",
          "data": {
            "text/plain": [
              "Single     319\n",
              "Married     85\n",
              "Name: Marital_Status, dtype: int64"
            ]
          },
          "metadata": {
            "tags": []
          },
          "execution_count": 122
        }
      ]
    },
    {
      "cell_type": "code",
      "metadata": {
        "id": "fdzn_Z0B9WZU"
      },
      "source": [
        "ms_mapping = {\"Single\":0,\"Married\":1}"
      ],
      "execution_count": null,
      "outputs": []
    },
    {
      "cell_type": "code",
      "metadata": {
        "id": "lX0_OBER9Xus"
      },
      "source": [
        "for dataset in rose_test_data:\n",
        "    dataset['Marital_Status'] = dataset['Marital_Status'].map(ms_mapping)"
      ],
      "execution_count": null,
      "outputs": []
    },
    {
      "cell_type": "code",
      "metadata": {
        "colab": {
          "base_uri": "https://localhost:8080/",
          "height": 349
        },
        "id": "Ii_BEi4sEpP2",
        "outputId": "613e3439-4ced-489e-8b56-774d58c9cf1d"
      },
      "source": [
        "bar_chart(\"Marital_Status\")"
      ],
      "execution_count": null,
      "outputs": [
        {
          "output_type": "display_data",
          "data": {
            "image/png": "[encoded data removed]",
            "text/plain": [
              "<Figure size 720x360 with 1 Axes>"
            ]
          },
          "metadata": {
            "tags": []
          }
        }
      ]
    },
    {
      "cell_type": "code",
      "metadata": {
        "id": "BcivLYG-97fj",
        "colab": {
          "base_uri": "https://localhost:8080/",
          "height": 196
        },
        "outputId": "47d2fd7a-99fc-4463-e068-0ec9aeec2ec1"
      },
      "source": [
        "rose.head()"
      ],
      "execution_count": null,
      "outputs": [
        {
          "output_type": "execute_result",
          "data": {
            "text/html": [
              "<div>\n",
              "<style scoped>\n",
              "    .dataframe tbody tr th:only-of-type {\n",
              "        vertical-align: middle;\n",
              "    }\n",
              "\n",
              "    .dataframe tbody tr th {\n",
              "        vertical-align: top;\n",
              "    }\n",
              "\n",
              "    .dataframe thead th {\n",
              "        text-align: right;\n",
              "    }\n",
              "</style>\n",
              "<table border=\"1\" class=\"dataframe\">\n",
              "  <thead>\n",
              "    <tr style=\"text-align: right;\">\n",
              "      <th></th>\n",
              "      <th>Name</th>\n",
              "      <th>Email</th>\n",
              "      <th>Age</th>\n",
              "      <th>Sex</th>\n",
              "      <th>Address</th>\n",
              "      <th>Sim_Company</th>\n",
              "      <th>Marital_Status</th>\n",
              "      <th>Religion</th>\n",
              "      <th>Occupation</th>\n",
              "      <th>Preference</th>\n",
              "      <th>Favourite_Flower</th>\n",
              "      <th>Comments</th>\n",
              "    </tr>\n",
              "  </thead>\n",
              "  <tbody>\n",
              "    <tr>\n",
              "      <th>0</th>\n",
              "      <td>Jahirul Islam</td>\n",
              "      <td>jahirul15-2752@diu.edu.bd</td>\n",
              "      <td>23.0</td>\n",
              "      <td>0</td>\n",
              "      <td>2</td>\n",
              "      <td>Banglalink</td>\n",
              "      <td>0</td>\n",
              "      <td>Islam</td>\n",
              "      <td>Student</td>\n",
              "      <td>1</td>\n",
              "      <td>Zinnia</td>\n",
              "      <td>Go Ahead</td>\n",
              "    </tr>\n",
              "    <tr>\n",
              "      <th>1</th>\n",
              "      <td>Asif</td>\n",
              "      <td>asif15-2750@diu.edu.bd</td>\n",
              "      <td>22.0</td>\n",
              "      <td>0</td>\n",
              "      <td>1</td>\n",
              "      <td>Grameenphone</td>\n",
              "      <td>0</td>\n",
              "      <td>Islam</td>\n",
              "      <td>Student</td>\n",
              "      <td>1</td>\n",
              "      <td>Red Rose</td>\n",
              "      <td>NaN</td>\n",
              "    </tr>\n",
              "    <tr>\n",
              "      <th>2</th>\n",
              "      <td>Tasrin Jahan Mishu</td>\n",
              "      <td>tasrin15-2706@diu.edu.bd</td>\n",
              "      <td>21.0</td>\n",
              "      <td>1</td>\n",
              "      <td>2</td>\n",
              "      <td>Grameenphone</td>\n",
              "      <td>0</td>\n",
              "      <td>Islam</td>\n",
              "      <td>Student</td>\n",
              "      <td>1</td>\n",
              "      <td>White daisy</td>\n",
              "      <td>It was interesting</td>\n",
              "    </tr>\n",
              "    <tr>\n",
              "      <th>3</th>\n",
              "      <td>Nadia Rahman</td>\n",
              "      <td>nadia15-2763@diu.edu.bd</td>\n",
              "      <td>21.0</td>\n",
              "      <td>1</td>\n",
              "      <td>0</td>\n",
              "      <td>Grameenphone</td>\n",
              "      <td>0</td>\n",
              "      <td>Islam</td>\n",
              "      <td>Student</td>\n",
              "      <td>0</td>\n",
              "      <td>I Don't like flower</td>\n",
              "      <td>Thank you</td>\n",
              "    </tr>\n",
              "    <tr>\n",
              "      <th>4</th>\n",
              "      <td>Fatima yesmin</td>\n",
              "      <td>fatima15-1850@diu.edu.bd</td>\n",
              "      <td>22.0</td>\n",
              "      <td>1</td>\n",
              "      <td>3</td>\n",
              "      <td>Grameenphone</td>\n",
              "      <td>0</td>\n",
              "      <td>Islam</td>\n",
              "      <td>Student</td>\n",
              "      <td>1</td>\n",
              "      <td>Red Rose</td>\n",
              "      <td>Not yet</td>\n",
              "    </tr>\n",
              "  </tbody>\n",
              "</table>\n",
              "</div>"
            ],
            "text/plain": [
              "                  Name  ...             Comments\n",
              "0        Jahirul Islam  ...             Go Ahead\n",
              "1                 Asif  ...                  NaN\n",
              "2  Tasrin Jahan Mishu   ...  It was interesting \n",
              "3         Nadia Rahman  ...            Thank you\n",
              "4        Fatima yesmin  ...              Not yet\n",
              "\n",
              "[5 rows x 12 columns]"
            ]
          },
          "metadata": {
            "tags": []
          },
          "execution_count": 126
        }
      ]
    },
    {
      "cell_type": "code",
      "metadata": {
        "id": "FA1hsPem-05g",
        "colab": {
          "base_uri": "https://localhost:8080/"
        },
        "outputId": "fb2d31ce-55b1-4154-c7e7-b6a14a82da58"
      },
      "source": [
        "rose['Religion'].value_counts()"
      ],
      "execution_count": null,
      "outputs": [
        {
          "output_type": "execute_result",
          "data": {
            "text/plain": [
              "Islam       377\n",
              "Hindu        26\n",
              "Chirstan      1\n",
              "Name: Religion, dtype: int64"
            ]
          },
          "metadata": {
            "tags": []
          },
          "execution_count": 127
        }
      ]
    },
    {
      "cell_type": "code",
      "metadata": {
        "id": "5cHg774y9_z2"
      },
      "source": [
        "religion_mapping = {\"Islam\":0,\"Hindu\":1,\"Chirstan\":2}"
      ],
      "execution_count": null,
      "outputs": []
    },
    {
      "cell_type": "code",
      "metadata": {
        "id": "4roeGMqS-Ll8"
      },
      "source": [
        "for dataset in rose_test_data:\n",
        "    dataset['Religion'] = dataset['Religion'].map(religion_mapping)"
      ],
      "execution_count": null,
      "outputs": []
    },
    {
      "cell_type": "code",
      "metadata": {
        "colab": {
          "base_uri": "https://localhost:8080/"
        },
        "id": "rMvMP7RnJ2Zc",
        "outputId": "2f75d82c-fc4b-4f0a-9cc3-57f6847e151a"
      },
      "source": [
        "rose.isnull().sum()"
      ],
      "execution_count": null,
      "outputs": [
        {
          "output_type": "execute_result",
          "data": {
            "text/plain": [
              "Name                  0\n",
              "Email                 0\n",
              "Age                  17\n",
              "Sex                   0\n",
              "Address               0\n",
              "Sim_Company           0\n",
              "Marital_Status        0\n",
              "Religion              0\n",
              "Occupation            0\n",
              "Preference            0\n",
              "Favourite_Flower      0\n",
              "Comments            324\n",
              "dtype: int64"
            ]
          },
          "metadata": {
            "tags": []
          },
          "execution_count": 130
        }
      ]
    },
    {
      "cell_type": "code",
      "metadata": {
        "id": "vp1EFHgT-aq4",
        "colab": {
          "base_uri": "https://localhost:8080/",
          "height": 196
        },
        "outputId": "fadaf42c-bb17-4905-ece0-ad9614154355"
      },
      "source": [
        "rose.head()"
      ],
      "execution_count": null,
      "outputs": [
        {
          "output_type": "execute_result",
          "data": {
            "text/html": [
              "<div>\n",
              "<style scoped>\n",
              "    .dataframe tbody tr th:only-of-type {\n",
              "        vertical-align: middle;\n",
              "    }\n",
              "\n",
              "    .dataframe tbody tr th {\n",
              "        vertical-align: top;\n",
              "    }\n",
              "\n",
              "    .dataframe thead th {\n",
              "        text-align: right;\n",
              "    }\n",
              "</style>\n",
              "<table border=\"1\" class=\"dataframe\">\n",
              "  <thead>\n",
              "    <tr style=\"text-align: right;\">\n",
              "      <th></th>\n",
              "      <th>Name</th>\n",
              "      <th>Email</th>\n",
              "      <th>Age</th>\n",
              "      <th>Sex</th>\n",
              "      <th>Address</th>\n",
              "      <th>Sim_Company</th>\n",
              "      <th>Marital_Status</th>\n",
              "      <th>Religion</th>\n",
              "      <th>Occupation</th>\n",
              "      <th>Preference</th>\n",
              "      <th>Favourite_Flower</th>\n",
              "      <th>Comments</th>\n",
              "    </tr>\n",
              "  </thead>\n",
              "  <tbody>\n",
              "    <tr>\n",
              "      <th>0</th>\n",
              "      <td>Jahirul Islam</td>\n",
              "      <td>jahirul15-2752@diu.edu.bd</td>\n",
              "      <td>23.0</td>\n",
              "      <td>0</td>\n",
              "      <td>2</td>\n",
              "      <td>Banglalink</td>\n",
              "      <td>0</td>\n",
              "      <td>0</td>\n",
              "      <td>Student</td>\n",
              "      <td>1</td>\n",
              "      <td>Zinnia</td>\n",
              "      <td>Go Ahead</td>\n",
              "    </tr>\n",
              "    <tr>\n",
              "      <th>1</th>\n",
              "      <td>Asif</td>\n",
              "      <td>asif15-2750@diu.edu.bd</td>\n",
              "      <td>22.0</td>\n",
              "      <td>0</td>\n",
              "      <td>1</td>\n",
              "      <td>Grameenphone</td>\n",
              "      <td>0</td>\n",
              "      <td>0</td>\n",
              "      <td>Student</td>\n",
              "      <td>1</td>\n",
              "      <td>Red Rose</td>\n",
              "      <td>NaN</td>\n",
              "    </tr>\n",
              "    <tr>\n",
              "      <th>2</th>\n",
              "      <td>Tasrin Jahan Mishu</td>\n",
              "      <td>tasrin15-2706@diu.edu.bd</td>\n",
              "      <td>21.0</td>\n",
              "      <td>1</td>\n",
              "      <td>2</td>\n",
              "      <td>Grameenphone</td>\n",
              "      <td>0</td>\n",
              "      <td>0</td>\n",
              "      <td>Student</td>\n",
              "      <td>1</td>\n",
              "      <td>White daisy</td>\n",
              "      <td>It was interesting</td>\n",
              "    </tr>\n",
              "    <tr>\n",
              "      <th>3</th>\n",
              "      <td>Nadia Rahman</td>\n",
              "      <td>nadia15-2763@diu.edu.bd</td>\n",
              "      <td>21.0</td>\n",
              "      <td>1</td>\n",
              "      <td>0</td>\n",
              "      <td>Grameenphone</td>\n",
              "      <td>0</td>\n",
              "      <td>0</td>\n",
              "      <td>Student</td>\n",
              "      <td>0</td>\n",
              "      <td>I Don't like flower</td>\n",
              "      <td>Thank you</td>\n",
              "    </tr>\n",
              "    <tr>\n",
              "      <th>4</th>\n",
              "      <td>Fatima yesmin</td>\n",
              "      <td>fatima15-1850@diu.edu.bd</td>\n",
              "      <td>22.0</td>\n",
              "      <td>1</td>\n",
              "      <td>3</td>\n",
              "      <td>Grameenphone</td>\n",
              "      <td>0</td>\n",
              "      <td>0</td>\n",
              "      <td>Student</td>\n",
              "      <td>1</td>\n",
              "      <td>Red Rose</td>\n",
              "      <td>Not yet</td>\n",
              "    </tr>\n",
              "  </tbody>\n",
              "</table>\n",
              "</div>"
            ],
            "text/plain": [
              "                  Name  ...             Comments\n",
              "0        Jahirul Islam  ...             Go Ahead\n",
              "1                 Asif  ...                  NaN\n",
              "2  Tasrin Jahan Mishu   ...  It was interesting \n",
              "3         Nadia Rahman  ...            Thank you\n",
              "4        Fatima yesmin  ...              Not yet\n",
              "\n",
              "[5 rows x 12 columns]"
            ]
          },
          "metadata": {
            "tags": []
          },
          "execution_count": 131
        }
      ]
    },
    {
      "cell_type": "code",
      "metadata": {
        "id": "q9O0uLk-EPGH",
        "colab": {
          "base_uri": "https://localhost:8080/",
          "height": 349
        },
        "outputId": "8fce010e-6036-4a09-f84e-2234c04d6357"
      },
      "source": [
        "bar_chart(\"Religion\")"
      ],
      "execution_count": null,
      "outputs": [
        {
          "output_type": "display_data",
          "data": {
            "image/png": "[encoded data removed]",
            "text/plain": [
              "<Figure size 720x360 with 1 Axes>"
            ]
          },
          "metadata": {
            "tags": []
          }
        }
      ]
    },
    {
      "cell_type": "code",
      "metadata": {
        "colab": {
          "base_uri": "https://localhost:8080/"
        },
        "id": "-IqfnYGfDxvJ",
        "outputId": "aa471e22-ec52-4863-f348-f7ebc328bd7e"
      },
      "source": [
        "rose.isnull().sum()"
      ],
      "execution_count": null,
      "outputs": [
        {
          "output_type": "execute_result",
          "data": {
            "text/plain": [
              "Name                  0\n",
              "Email                 0\n",
              "Age                  17\n",
              "Sex                   0\n",
              "Address               0\n",
              "Sim_Company           0\n",
              "Marital_Status        0\n",
              "Religion              0\n",
              "Occupation            0\n",
              "Preference            0\n",
              "Favourite_Flower      0\n",
              "Comments            324\n",
              "dtype: int64"
            ]
          },
          "metadata": {
            "tags": []
          },
          "execution_count": 133
        }
      ]
    },
    {
      "cell_type": "code",
      "metadata": {
        "id": "FGkqbxVQ_Pn8",
        "colab": {
          "base_uri": "https://localhost:8080/"
        },
        "outputId": "eb4ef01e-7b00-4030-8ca6-5581114bed4d"
      },
      "source": [
        "rose['Occupation'].value_counts()"
      ],
      "execution_count": null,
      "outputs": [
        {
          "output_type": "execute_result",
          "data": {
            "text/plain": [
              "Student    307\n",
              "Work        61\n",
              "Jobless     21\n",
              "Teacher     15\n",
              "Name: Occupation, dtype: int64"
            ]
          },
          "metadata": {
            "tags": []
          },
          "execution_count": 134
        }
      ]
    },
    {
      "cell_type": "code",
      "metadata": {
        "id": "m41ObXEMXKdx"
      },
      "source": [
        "op_mapping = {'Jobless':0,'Student':1,'Work':2,'Teacher':4}"
      ],
      "execution_count": null,
      "outputs": []
    },
    {
      "cell_type": "code",
      "metadata": {
        "id": "N_-5Ka_WXpE0"
      },
      "source": [
        "for dataset in rose_test_data:\n",
        "  dataset['Occupation'] = dataset['Occupation'].map(op_mapping)\n"
      ],
      "execution_count": null,
      "outputs": []
    },
    {
      "cell_type": "code",
      "metadata": {
        "colab": {
          "base_uri": "https://localhost:8080/"
        },
        "id": "4ihdtCNcZlN_",
        "outputId": "5fb51a15-64f8-411e-d77d-066561fb1bb2"
      },
      "source": [
        "rose['Occupation'].value_counts()"
      ],
      "execution_count": null,
      "outputs": [
        {
          "output_type": "execute_result",
          "data": {
            "text/plain": [
              "1    307\n",
              "2     61\n",
              "0     21\n",
              "4     15\n",
              "Name: Occupation, dtype: int64"
            ]
          },
          "metadata": {
            "tags": []
          },
          "execution_count": 137
        }
      ]
    },
    {
      "cell_type": "code",
      "metadata": {
        "colab": {
          "base_uri": "https://localhost:8080/",
          "height": 349
        },
        "id": "sVs-VHNKms0T",
        "outputId": "849be985-a4f0-408b-f71d-a3292ce4278b"
      },
      "source": [
        "bar_chart('Occupation')"
      ],
      "execution_count": null,
      "outputs": [
        {
          "output_type": "display_data",
          "data": {
            "image/png": "[encoded data removed]",
            "text/plain": [
              "<Figure size 720x360 with 1 Axes>"
            ]
          },
          "metadata": {
            "tags": []
          }
        }
      ]
    },
    {
      "cell_type": "code",
      "metadata": {
        "colab": {
          "base_uri": "https://localhost:8080/"
        },
        "id": "BlPdvv2-PDGW",
        "outputId": "13ac2e4a-3487-4a1c-ddc4-5ea88b007615"
      },
      "source": [
        "rose.isnull().sum()"
      ],
      "execution_count": null,
      "outputs": [
        {
          "output_type": "execute_result",
          "data": {
            "text/plain": [
              "Name                  0\n",
              "Email                 0\n",
              "Age                  17\n",
              "Sex                   0\n",
              "Address               0\n",
              "Sim_Company           0\n",
              "Marital_Status        0\n",
              "Religion              0\n",
              "Occupation            0\n",
              "Preference            0\n",
              "Favourite_Flower      0\n",
              "Comments            324\n",
              "dtype: int64"
            ]
          },
          "metadata": {
            "tags": []
          },
          "execution_count": 139
        }
      ]
    },
    {
      "cell_type": "code",
      "metadata": {
        "id": "WX_gsRfYBL0S",
        "colab": {
          "base_uri": "https://localhost:8080/"
        },
        "outputId": "100c590e-eb38-451b-a689-919f4f404918"
      },
      "source": [
        "rose['Sim_Company'].value_counts()"
      ],
      "execution_count": null,
      "outputs": [
        {
          "output_type": "execute_result",
          "data": {
            "text/plain": [
              "Grameenphone    177\n",
              "Banglalink      131\n",
              "Robi             58\n",
              "Airtel           27\n",
              "Teletalk         11\n",
              "Name: Sim_Company, dtype: int64"
            ]
          },
          "metadata": {
            "tags": []
          },
          "execution_count": 140
        }
      ]
    },
    {
      "cell_type": "code",
      "metadata": {
        "colab": {
          "base_uri": "https://localhost:8080/",
          "height": 349
        },
        "id": "xSvtBGdznbPv",
        "outputId": "dd6ab68c-9eff-42a1-f5be-9031f085c826"
      },
      "source": [
        "bar_chart('Sim_Company')"
      ],
      "execution_count": null,
      "outputs": [
        {
          "output_type": "display_data",
          "data": {
            "image/png": "[encoded data removed]",
            "text/plain": [
              "<Figure size 720x360 with 1 Axes>"
            ]
          },
          "metadata": {
            "tags": []
          }
        }
      ]
    },
    {
      "cell_type": "code",
      "metadata": {
        "id": "sIikbmbkBTXC"
      },
      "source": [
        "tele_mapping = {\"Grameenphone\":\"1\",\"Banglalink\":\"2\",\"Robi\":\"3\",\"Airtel\":\"3\",\"Teletalk\":\"4\"}"
      ],
      "execution_count": null,
      "outputs": []
    },
    {
      "cell_type": "code",
      "metadata": {
        "id": "jY11eZ07BseS"
      },
      "source": [
        "for dataset in rose_test_data:\n",
        "    dataset['Sim_Company'] = dataset['Sim_Company'].map(tele_mapping)"
      ],
      "execution_count": null,
      "outputs": []
    },
    {
      "cell_type": "code",
      "metadata": {
        "colab": {
          "base_uri": "https://localhost:8080/",
          "height": 196
        },
        "id": "-kD8Aa0ywn00",
        "outputId": "90588e2c-9c54-4247-dba9-9a3849f89a9e"
      },
      "source": [
        "rose.head()"
      ],
      "execution_count": null,
      "outputs": [
        {
          "output_type": "execute_result",
          "data": {
            "text/html": [
              "<div>\n",
              "<style scoped>\n",
              "    .dataframe tbody tr th:only-of-type {\n",
              "        vertical-align: middle;\n",
              "    }\n",
              "\n",
              "    .dataframe tbody tr th {\n",
              "        vertical-align: top;\n",
              "    }\n",
              "\n",
              "    .dataframe thead th {\n",
              "        text-align: right;\n",
              "    }\n",
              "</style>\n",
              "<table border=\"1\" class=\"dataframe\">\n",
              "  <thead>\n",
              "    <tr style=\"text-align: right;\">\n",
              "      <th></th>\n",
              "      <th>Name</th>\n",
              "      <th>Email</th>\n",
              "      <th>Age</th>\n",
              "      <th>Sex</th>\n",
              "      <th>Address</th>\n",
              "      <th>Sim_Company</th>\n",
              "      <th>Marital_Status</th>\n",
              "      <th>Religion</th>\n",
              "      <th>Occupation</th>\n",
              "      <th>Preference</th>\n",
              "      <th>Favourite_Flower</th>\n",
              "      <th>Comments</th>\n",
              "    </tr>\n",
              "  </thead>\n",
              "  <tbody>\n",
              "    <tr>\n",
              "      <th>0</th>\n",
              "      <td>Jahirul Islam</td>\n",
              "      <td>jahirul15-2752@diu.edu.bd</td>\n",
              "      <td>23.0</td>\n",
              "      <td>0</td>\n",
              "      <td>2</td>\n",
              "      <td>2</td>\n",
              "      <td>0</td>\n",
              "      <td>0</td>\n",
              "      <td>1</td>\n",
              "      <td>1</td>\n",
              "      <td>Zinnia</td>\n",
              "      <td>Go Ahead</td>\n",
              "    </tr>\n",
              "    <tr>\n",
              "      <th>1</th>\n",
              "      <td>Asif</td>\n",
              "      <td>asif15-2750@diu.edu.bd</td>\n",
              "      <td>22.0</td>\n",
              "      <td>0</td>\n",
              "      <td>1</td>\n",
              "      <td>1</td>\n",
              "      <td>0</td>\n",
              "      <td>0</td>\n",
              "      <td>1</td>\n",
              "      <td>1</td>\n",
              "      <td>Red Rose</td>\n",
              "      <td>NaN</td>\n",
              "    </tr>\n",
              "    <tr>\n",
              "      <th>2</th>\n",
              "      <td>Tasrin Jahan Mishu</td>\n",
              "      <td>tasrin15-2706@diu.edu.bd</td>\n",
              "      <td>21.0</td>\n",
              "      <td>1</td>\n",
              "      <td>2</td>\n",
              "      <td>1</td>\n",
              "      <td>0</td>\n",
              "      <td>0</td>\n",
              "      <td>1</td>\n",
              "      <td>1</td>\n",
              "      <td>White daisy</td>\n",
              "      <td>It was interesting</td>\n",
              "    </tr>\n",
              "    <tr>\n",
              "      <th>3</th>\n",
              "      <td>Nadia Rahman</td>\n",
              "      <td>nadia15-2763@diu.edu.bd</td>\n",
              "      <td>21.0</td>\n",
              "      <td>1</td>\n",
              "      <td>0</td>\n",
              "      <td>1</td>\n",
              "      <td>0</td>\n",
              "      <td>0</td>\n",
              "      <td>1</td>\n",
              "      <td>0</td>\n",
              "      <td>I Don't like flower</td>\n",
              "      <td>Thank you</td>\n",
              "    </tr>\n",
              "    <tr>\n",
              "      <th>4</th>\n",
              "      <td>Fatima yesmin</td>\n",
              "      <td>fatima15-1850@diu.edu.bd</td>\n",
              "      <td>22.0</td>\n",
              "      <td>1</td>\n",
              "      <td>3</td>\n",
              "      <td>1</td>\n",
              "      <td>0</td>\n",
              "      <td>0</td>\n",
              "      <td>1</td>\n",
              "      <td>1</td>\n",
              "      <td>Red Rose</td>\n",
              "      <td>Not yet</td>\n",
              "    </tr>\n",
              "  </tbody>\n",
              "</table>\n",
              "</div>"
            ],
            "text/plain": [
              "                  Name  ...             Comments\n",
              "0        Jahirul Islam  ...             Go Ahead\n",
              "1                 Asif  ...                  NaN\n",
              "2  Tasrin Jahan Mishu   ...  It was interesting \n",
              "3         Nadia Rahman  ...            Thank you\n",
              "4        Fatima yesmin  ...              Not yet\n",
              "\n",
              "[5 rows x 12 columns]"
            ]
          },
          "metadata": {
            "tags": []
          },
          "execution_count": 144
        }
      ]
    },
    {
      "cell_type": "code",
      "metadata": {
        "id": "J8Mhq59bN4yQ",
        "colab": {
          "base_uri": "https://localhost:8080/"
        },
        "outputId": "82992736-5c89-4d0e-a9e7-c19743ae8d4e"
      },
      "source": [
        "rose.isnull().sum()"
      ],
      "execution_count": null,
      "outputs": [
        {
          "output_type": "execute_result",
          "data": {
            "text/plain": [
              "Name                  0\n",
              "Email                 0\n",
              "Age                  17\n",
              "Sex                   0\n",
              "Address               0\n",
              "Sim_Company           0\n",
              "Marital_Status        0\n",
              "Religion              0\n",
              "Occupation            0\n",
              "Preference            0\n",
              "Favourite_Flower      0\n",
              "Comments            324\n",
              "dtype: int64"
            ]
          },
          "metadata": {
            "tags": []
          },
          "execution_count": 145
        }
      ]
    },
    {
      "cell_type": "code",
      "metadata": {
        "id": "dd0SRJkCK4v-",
        "colab": {
          "base_uri": "https://localhost:8080/",
          "height": 677
        },
        "outputId": "e901a553-2d3a-4f8e-9536-81f1d225819f"
      },
      "source": [
        "rose.head(20)"
      ],
      "execution_count": null,
      "outputs": [
        {
          "output_type": "execute_result",
          "data": {
            "text/html": [
              "<div>\n",
              "<style scoped>\n",
              "    .dataframe tbody tr th:only-of-type {\n",
              "        vertical-align: middle;\n",
              "    }\n",
              "\n",
              "    .dataframe tbody tr th {\n",
              "        vertical-align: top;\n",
              "    }\n",
              "\n",
              "    .dataframe thead th {\n",
              "        text-align: right;\n",
              "    }\n",
              "</style>\n",
              "<table border=\"1\" class=\"dataframe\">\n",
              "  <thead>\n",
              "    <tr style=\"text-align: right;\">\n",
              "      <th></th>\n",
              "      <th>Name</th>\n",
              "      <th>Email</th>\n",
              "      <th>Age</th>\n",
              "      <th>Sex</th>\n",
              "      <th>Address</th>\n",
              "      <th>Sim_Company</th>\n",
              "      <th>Marital_Status</th>\n",
              "      <th>Religion</th>\n",
              "      <th>Occupation</th>\n",
              "      <th>Preference</th>\n",
              "      <th>Favourite_Flower</th>\n",
              "      <th>Comments</th>\n",
              "    </tr>\n",
              "  </thead>\n",
              "  <tbody>\n",
              "    <tr>\n",
              "      <th>0</th>\n",
              "      <td>Jahirul Islam</td>\n",
              "      <td>jahirul15-2752@diu.edu.bd</td>\n",
              "      <td>23.0</td>\n",
              "      <td>0</td>\n",
              "      <td>2</td>\n",
              "      <td>2</td>\n",
              "      <td>0</td>\n",
              "      <td>0</td>\n",
              "      <td>1</td>\n",
              "      <td>1</td>\n",
              "      <td>Zinnia</td>\n",
              "      <td>Go Ahead</td>\n",
              "    </tr>\n",
              "    <tr>\n",
              "      <th>1</th>\n",
              "      <td>Asif</td>\n",
              "      <td>asif15-2750@diu.edu.bd</td>\n",
              "      <td>22.0</td>\n",
              "      <td>0</td>\n",
              "      <td>1</td>\n",
              "      <td>1</td>\n",
              "      <td>0</td>\n",
              "      <td>0</td>\n",
              "      <td>1</td>\n",
              "      <td>1</td>\n",
              "      <td>Red Rose</td>\n",
              "      <td>NaN</td>\n",
              "    </tr>\n",
              "    <tr>\n",
              "      <th>2</th>\n",
              "      <td>Tasrin Jahan Mishu</td>\n",
              "      <td>tasrin15-2706@diu.edu.bd</td>\n",
              "      <td>21.0</td>\n",
              "      <td>1</td>\n",
              "      <td>2</td>\n",
              "      <td>1</td>\n",
              "      <td>0</td>\n",
              "      <td>0</td>\n",
              "      <td>1</td>\n",
              "      <td>1</td>\n",
              "      <td>White daisy</td>\n",
              "      <td>It was interesting</td>\n",
              "    </tr>\n",
              "    <tr>\n",
              "      <th>3</th>\n",
              "      <td>Nadia Rahman</td>\n",
              "      <td>nadia15-2763@diu.edu.bd</td>\n",
              "      <td>21.0</td>\n",
              "      <td>1</td>\n",
              "      <td>0</td>\n",
              "      <td>1</td>\n",
              "      <td>0</td>\n",
              "      <td>0</td>\n",
              "      <td>1</td>\n",
              "      <td>0</td>\n",
              "      <td>I Don't like flower</td>\n",
              "      <td>Thank you</td>\n",
              "    </tr>\n",
              "    <tr>\n",
              "      <th>4</th>\n",
              "      <td>Fatima yesmin</td>\n",
              "      <td>fatima15-1850@diu.edu.bd</td>\n",
              "      <td>22.0</td>\n",
              "      <td>1</td>\n",
              "      <td>3</td>\n",
              "      <td>1</td>\n",
              "      <td>0</td>\n",
              "      <td>0</td>\n",
              "      <td>1</td>\n",
              "      <td>1</td>\n",
              "      <td>Red Rose</td>\n",
              "      <td>Not yet</td>\n",
              "    </tr>\n",
              "    <tr>\n",
              "      <th>5</th>\n",
              "      <td>Ahsan Habib</td>\n",
              "      <td>asrk1080@gmail.com</td>\n",
              "      <td>23.0</td>\n",
              "      <td>0</td>\n",
              "      <td>2</td>\n",
              "      <td>2</td>\n",
              "      <td>0</td>\n",
              "      <td>0</td>\n",
              "      <td>1</td>\n",
              "      <td>1</td>\n",
              "      <td>Red Rose</td>\n",
              "      <td>NaN</td>\n",
              "    </tr>\n",
              "    <tr>\n",
              "      <th>6</th>\n",
              "      <td>Sharmin akter</td>\n",
              "      <td>sharmin15-2573@diu.edu.bd</td>\n",
              "      <td>21.0</td>\n",
              "      <td>1</td>\n",
              "      <td>3</td>\n",
              "      <td>2</td>\n",
              "      <td>0</td>\n",
              "      <td>0</td>\n",
              "      <td>1</td>\n",
              "      <td>1</td>\n",
              "      <td>White Rose</td>\n",
              "      <td>NaN</td>\n",
              "    </tr>\n",
              "    <tr>\n",
              "      <th>7</th>\n",
              "      <td>Ashik Mahmud Reshat</td>\n",
              "      <td>reshatmahmud@gmail.com</td>\n",
              "      <td>22.0</td>\n",
              "      <td>0</td>\n",
              "      <td>3</td>\n",
              "      <td>1</td>\n",
              "      <td>0</td>\n",
              "      <td>0</td>\n",
              "      <td>1</td>\n",
              "      <td>1</td>\n",
              "      <td>Red Rose</td>\n",
              "      <td>NaN</td>\n",
              "    </tr>\n",
              "    <tr>\n",
              "      <th>8</th>\n",
              "      <td>owali alam himel</td>\n",
              "      <td>himel75545@gmail.com</td>\n",
              "      <td>23.0</td>\n",
              "      <td>0</td>\n",
              "      <td>3</td>\n",
              "      <td>2</td>\n",
              "      <td>1</td>\n",
              "      <td>0</td>\n",
              "      <td>1</td>\n",
              "      <td>1</td>\n",
              "      <td>White Rose</td>\n",
              "      <td>NaN</td>\n",
              "    </tr>\n",
              "    <tr>\n",
              "      <th>9</th>\n",
              "      <td>Shahid</td>\n",
              "      <td>shahid15-2737@gmail.com</td>\n",
              "      <td>25.0</td>\n",
              "      <td>0</td>\n",
              "      <td>3</td>\n",
              "      <td>2</td>\n",
              "      <td>0</td>\n",
              "      <td>0</td>\n",
              "      <td>1</td>\n",
              "      <td>1</td>\n",
              "      <td>Daffodil</td>\n",
              "      <td>NaN</td>\n",
              "    </tr>\n",
              "    <tr>\n",
              "      <th>10</th>\n",
              "      <td>Naimul Hasan Akib</td>\n",
              "      <td>naimul15-2423@diu.edu.bd</td>\n",
              "      <td>20.0</td>\n",
              "      <td>0</td>\n",
              "      <td>3</td>\n",
              "      <td>3</td>\n",
              "      <td>0</td>\n",
              "      <td>0</td>\n",
              "      <td>1</td>\n",
              "      <td>1</td>\n",
              "      <td>Red Rose</td>\n",
              "      <td>interesting</td>\n",
              "    </tr>\n",
              "    <tr>\n",
              "      <th>11</th>\n",
              "      <td>kalpana akter</td>\n",
              "      <td>kalpana15-2597@diu.edu.bd</td>\n",
              "      <td>22.0</td>\n",
              "      <td>1</td>\n",
              "      <td>1</td>\n",
              "      <td>3</td>\n",
              "      <td>0</td>\n",
              "      <td>0</td>\n",
              "      <td>1</td>\n",
              "      <td>1</td>\n",
              "      <td>Lotus</td>\n",
              "      <td>nice</td>\n",
              "    </tr>\n",
              "    <tr>\n",
              "      <th>12</th>\n",
              "      <td>Afsana Mou</td>\n",
              "      <td>afsana29-081@diu.edu.bd</td>\n",
              "      <td>24.0</td>\n",
              "      <td>1</td>\n",
              "      <td>1</td>\n",
              "      <td>1</td>\n",
              "      <td>0</td>\n",
              "      <td>0</td>\n",
              "      <td>1</td>\n",
              "      <td>1</td>\n",
              "      <td>Jasmine</td>\n",
              "      <td>Nothing</td>\n",
              "    </tr>\n",
              "    <tr>\n",
              "      <th>13</th>\n",
              "      <td>Murad Hossain</td>\n",
              "      <td>murad15-2412@diu.edu.bd</td>\n",
              "      <td>23.0</td>\n",
              "      <td>0</td>\n",
              "      <td>0</td>\n",
              "      <td>3</td>\n",
              "      <td>0</td>\n",
              "      <td>0</td>\n",
              "      <td>1</td>\n",
              "      <td>0</td>\n",
              "      <td>I Don't like flower</td>\n",
              "      <td>NaN</td>\n",
              "    </tr>\n",
              "    <tr>\n",
              "      <th>14</th>\n",
              "      <td>Muhammad Mahmudul</td>\n",
              "      <td>mahmudul15-2711@diu.edu.bd</td>\n",
              "      <td>24.0</td>\n",
              "      <td>0</td>\n",
              "      <td>2</td>\n",
              "      <td>1</td>\n",
              "      <td>0</td>\n",
              "      <td>0</td>\n",
              "      <td>1</td>\n",
              "      <td>1</td>\n",
              "      <td>Daffodil</td>\n",
              "      <td>Carry on</td>\n",
              "    </tr>\n",
              "    <tr>\n",
              "      <th>15</th>\n",
              "      <td>Robiul hasan</td>\n",
              "      <td>robiul15-2516@diu.edu.bd</td>\n",
              "      <td>22.0</td>\n",
              "      <td>0</td>\n",
              "      <td>2</td>\n",
              "      <td>3</td>\n",
              "      <td>0</td>\n",
              "      <td>0</td>\n",
              "      <td>1</td>\n",
              "      <td>1</td>\n",
              "      <td>Red Rose</td>\n",
              "      <td>NaN</td>\n",
              "    </tr>\n",
              "    <tr>\n",
              "      <th>16</th>\n",
              "      <td>Ashikur Rahman</td>\n",
              "      <td>rsshanto34@gmail.com</td>\n",
              "      <td>24.0</td>\n",
              "      <td>0</td>\n",
              "      <td>2</td>\n",
              "      <td>1</td>\n",
              "      <td>0</td>\n",
              "      <td>0</td>\n",
              "      <td>1</td>\n",
              "      <td>1</td>\n",
              "      <td>Black rose</td>\n",
              "      <td>No comments</td>\n",
              "    </tr>\n",
              "    <tr>\n",
              "      <th>17</th>\n",
              "      <td>Tahomin Taslima Eya</td>\n",
              "      <td>tahomin35-373@diu.edu.bd</td>\n",
              "      <td>20.0</td>\n",
              "      <td>1</td>\n",
              "      <td>3</td>\n",
              "      <td>2</td>\n",
              "      <td>0</td>\n",
              "      <td>0</td>\n",
              "      <td>1</td>\n",
              "      <td>1</td>\n",
              "      <td>Zinnia</td>\n",
              "      <td>NaN</td>\n",
              "    </tr>\n",
              "    <tr>\n",
              "      <th>18</th>\n",
              "      <td>Mustafizur Rahman</td>\n",
              "      <td>mr2480379@gmail.com</td>\n",
              "      <td>23.0</td>\n",
              "      <td>0</td>\n",
              "      <td>1</td>\n",
              "      <td>2</td>\n",
              "      <td>0</td>\n",
              "      <td>0</td>\n",
              "      <td>1</td>\n",
              "      <td>1</td>\n",
              "      <td>Red Rose</td>\n",
              "      <td>NaN</td>\n",
              "    </tr>\n",
              "    <tr>\n",
              "      <th>19</th>\n",
              "      <td>Kazi Mizanur Rahman</td>\n",
              "      <td>kazi47-219@diu.bd.edu</td>\n",
              "      <td>25.0</td>\n",
              "      <td>0</td>\n",
              "      <td>0</td>\n",
              "      <td>3</td>\n",
              "      <td>0</td>\n",
              "      <td>0</td>\n",
              "      <td>1</td>\n",
              "      <td>1</td>\n",
              "      <td>Red Rose</td>\n",
              "      <td>NaN</td>\n",
              "    </tr>\n",
              "  </tbody>\n",
              "</table>\n",
              "</div>"
            ],
            "text/plain": [
              "                    Name  ...             Comments\n",
              "0          Jahirul Islam  ...             Go Ahead\n",
              "1                   Asif  ...                  NaN\n",
              "2    Tasrin Jahan Mishu   ...  It was interesting \n",
              "3           Nadia Rahman  ...            Thank you\n",
              "4          Fatima yesmin  ...              Not yet\n",
              "5            Ahsan Habib  ...                  NaN\n",
              "6          Sharmin akter  ...                  NaN\n",
              "7   Ashik Mahmud Reshat   ...                  NaN\n",
              "8       owali alam himel  ...                  NaN\n",
              "9                 Shahid  ...                  NaN\n",
              "10     Naimul Hasan Akib  ...          interesting\n",
              "11         kalpana akter  ...                 nice\n",
              "12            Afsana Mou  ...              Nothing\n",
              "13         Murad Hossain  ...                  NaN\n",
              "14     Muhammad Mahmudul  ...             Carry on\n",
              "15          Robiul hasan  ...                  NaN\n",
              "16        Ashikur Rahman  ...          No comments\n",
              "17   Tahomin Taslima Eya  ...                  NaN\n",
              "18     Mustafizur Rahman  ...                  NaN\n",
              "19   Kazi Mizanur Rahman  ...                  NaN\n",
              "\n",
              "[20 rows x 12 columns]"
            ]
          },
          "metadata": {
            "tags": []
          },
          "execution_count": 146
        }
      ]
    },
    {
      "cell_type": "code",
      "metadata": {
        "id": "uHCAti_5CLLg",
        "colab": {
          "base_uri": "https://localhost:8080/",
          "height": 349
        },
        "outputId": "d259c639-fe30-41f0-cea5-02103580579d"
      },
      "source": [
        "bar_chart(\"Sim_Company\")"
      ],
      "execution_count": null,
      "outputs": [
        {
          "output_type": "display_data",
          "data": {
            "image/png": "[encoded data removed]",
            "text/plain": [
              "<Figure size 720x360 with 1 Axes>"
            ]
          },
          "metadata": {
            "tags": []
          }
        }
      ]
    },
    {
      "cell_type": "code",
      "metadata": {
        "id": "W8WiYPMlB1kt",
        "colab": {
          "base_uri": "https://localhost:8080/",
          "height": 677
        },
        "outputId": "acc1845e-ea85-4d49-810c-99f472cf62bf"
      },
      "source": [
        "rose.head(20)"
      ],
      "execution_count": null,
      "outputs": [
        {
          "output_type": "execute_result",
          "data": {
            "text/html": [
              "<div>\n",
              "<style scoped>\n",
              "    .dataframe tbody tr th:only-of-type {\n",
              "        vertical-align: middle;\n",
              "    }\n",
              "\n",
              "    .dataframe tbody tr th {\n",
              "        vertical-align: top;\n",
              "    }\n",
              "\n",
              "    .dataframe thead th {\n",
              "        text-align: right;\n",
              "    }\n",
              "</style>\n",
              "<table border=\"1\" class=\"dataframe\">\n",
              "  <thead>\n",
              "    <tr style=\"text-align: right;\">\n",
              "      <th></th>\n",
              "      <th>Name</th>\n",
              "      <th>Email</th>\n",
              "      <th>Age</th>\n",
              "      <th>Sex</th>\n",
              "      <th>Address</th>\n",
              "      <th>Sim_Company</th>\n",
              "      <th>Marital_Status</th>\n",
              "      <th>Religion</th>\n",
              "      <th>Occupation</th>\n",
              "      <th>Preference</th>\n",
              "      <th>Favourite_Flower</th>\n",
              "      <th>Comments</th>\n",
              "    </tr>\n",
              "  </thead>\n",
              "  <tbody>\n",
              "    <tr>\n",
              "      <th>0</th>\n",
              "      <td>Jahirul Islam</td>\n",
              "      <td>jahirul15-2752@diu.edu.bd</td>\n",
              "      <td>23.0</td>\n",
              "      <td>0</td>\n",
              "      <td>2</td>\n",
              "      <td>2</td>\n",
              "      <td>0</td>\n",
              "      <td>0</td>\n",
              "      <td>1</td>\n",
              "      <td>1</td>\n",
              "      <td>Zinnia</td>\n",
              "      <td>Go Ahead</td>\n",
              "    </tr>\n",
              "    <tr>\n",
              "      <th>1</th>\n",
              "      <td>Asif</td>\n",
              "      <td>asif15-2750@diu.edu.bd</td>\n",
              "      <td>22.0</td>\n",
              "      <td>0</td>\n",
              "      <td>1</td>\n",
              "      <td>1</td>\n",
              "      <td>0</td>\n",
              "      <td>0</td>\n",
              "      <td>1</td>\n",
              "      <td>1</td>\n",
              "      <td>Red Rose</td>\n",
              "      <td>NaN</td>\n",
              "    </tr>\n",
              "    <tr>\n",
              "      <th>2</th>\n",
              "      <td>Tasrin Jahan Mishu</td>\n",
              "      <td>tasrin15-2706@diu.edu.bd</td>\n",
              "      <td>21.0</td>\n",
              "      <td>1</td>\n",
              "      <td>2</td>\n",
              "      <td>1</td>\n",
              "      <td>0</td>\n",
              "      <td>0</td>\n",
              "      <td>1</td>\n",
              "      <td>1</td>\n",
              "      <td>White daisy</td>\n",
              "      <td>It was interesting</td>\n",
              "    </tr>\n",
              "    <tr>\n",
              "      <th>3</th>\n",
              "      <td>Nadia Rahman</td>\n",
              "      <td>nadia15-2763@diu.edu.bd</td>\n",
              "      <td>21.0</td>\n",
              "      <td>1</td>\n",
              "      <td>0</td>\n",
              "      <td>1</td>\n",
              "      <td>0</td>\n",
              "      <td>0</td>\n",
              "      <td>1</td>\n",
              "      <td>0</td>\n",
              "      <td>I Don't like flower</td>\n",
              "      <td>Thank you</td>\n",
              "    </tr>\n",
              "    <tr>\n",
              "      <th>4</th>\n",
              "      <td>Fatima yesmin</td>\n",
              "      <td>fatima15-1850@diu.edu.bd</td>\n",
              "      <td>22.0</td>\n",
              "      <td>1</td>\n",
              "      <td>3</td>\n",
              "      <td>1</td>\n",
              "      <td>0</td>\n",
              "      <td>0</td>\n",
              "      <td>1</td>\n",
              "      <td>1</td>\n",
              "      <td>Red Rose</td>\n",
              "      <td>Not yet</td>\n",
              "    </tr>\n",
              "    <tr>\n",
              "      <th>5</th>\n",
              "      <td>Ahsan Habib</td>\n",
              "      <td>asrk1080@gmail.com</td>\n",
              "      <td>23.0</td>\n",
              "      <td>0</td>\n",
              "      <td>2</td>\n",
              "      <td>2</td>\n",
              "      <td>0</td>\n",
              "      <td>0</td>\n",
              "      <td>1</td>\n",
              "      <td>1</td>\n",
              "      <td>Red Rose</td>\n",
              "      <td>NaN</td>\n",
              "    </tr>\n",
              "    <tr>\n",
              "      <th>6</th>\n",
              "      <td>Sharmin akter</td>\n",
              "      <td>sharmin15-2573@diu.edu.bd</td>\n",
              "      <td>21.0</td>\n",
              "      <td>1</td>\n",
              "      <td>3</td>\n",
              "      <td>2</td>\n",
              "      <td>0</td>\n",
              "      <td>0</td>\n",
              "      <td>1</td>\n",
              "      <td>1</td>\n",
              "      <td>White Rose</td>\n",
              "      <td>NaN</td>\n",
              "    </tr>\n",
              "    <tr>\n",
              "      <th>7</th>\n",
              "      <td>Ashik Mahmud Reshat</td>\n",
              "      <td>reshatmahmud@gmail.com</td>\n",
              "      <td>22.0</td>\n",
              "      <td>0</td>\n",
              "      <td>3</td>\n",
              "      <td>1</td>\n",
              "      <td>0</td>\n",
              "      <td>0</td>\n",
              "      <td>1</td>\n",
              "      <td>1</td>\n",
              "      <td>Red Rose</td>\n",
              "      <td>NaN</td>\n",
              "    </tr>\n",
              "    <tr>\n",
              "      <th>8</th>\n",
              "      <td>owali alam himel</td>\n",
              "      <td>himel75545@gmail.com</td>\n",
              "      <td>23.0</td>\n",
              "      <td>0</td>\n",
              "      <td>3</td>\n",
              "      <td>2</td>\n",
              "      <td>1</td>\n",
              "      <td>0</td>\n",
              "      <td>1</td>\n",
              "      <td>1</td>\n",
              "      <td>White Rose</td>\n",
              "      <td>NaN</td>\n",
              "    </tr>\n",
              "    <tr>\n",
              "      <th>9</th>\n",
              "      <td>Shahid</td>\n",
              "      <td>shahid15-2737@gmail.com</td>\n",
              "      <td>25.0</td>\n",
              "      <td>0</td>\n",
              "      <td>3</td>\n",
              "      <td>2</td>\n",
              "      <td>0</td>\n",
              "      <td>0</td>\n",
              "      <td>1</td>\n",
              "      <td>1</td>\n",
              "      <td>Daffodil</td>\n",
              "      <td>NaN</td>\n",
              "    </tr>\n",
              "    <tr>\n",
              "      <th>10</th>\n",
              "      <td>Naimul Hasan Akib</td>\n",
              "      <td>naimul15-2423@diu.edu.bd</td>\n",
              "      <td>20.0</td>\n",
              "      <td>0</td>\n",
              "      <td>3</td>\n",
              "      <td>3</td>\n",
              "      <td>0</td>\n",
              "      <td>0</td>\n",
              "      <td>1</td>\n",
              "      <td>1</td>\n",
              "      <td>Red Rose</td>\n",
              "      <td>interesting</td>\n",
              "    </tr>\n",
              "    <tr>\n",
              "      <th>11</th>\n",
              "      <td>kalpana akter</td>\n",
              "      <td>kalpana15-2597@diu.edu.bd</td>\n",
              "      <td>22.0</td>\n",
              "      <td>1</td>\n",
              "      <td>1</td>\n",
              "      <td>3</td>\n",
              "      <td>0</td>\n",
              "      <td>0</td>\n",
              "      <td>1</td>\n",
              "      <td>1</td>\n",
              "      <td>Lotus</td>\n",
              "      <td>nice</td>\n",
              "    </tr>\n",
              "    <tr>\n",
              "      <th>12</th>\n",
              "      <td>Afsana Mou</td>\n",
              "      <td>afsana29-081@diu.edu.bd</td>\n",
              "      <td>24.0</td>\n",
              "      <td>1</td>\n",
              "      <td>1</td>\n",
              "      <td>1</td>\n",
              "      <td>0</td>\n",
              "      <td>0</td>\n",
              "      <td>1</td>\n",
              "      <td>1</td>\n",
              "      <td>Jasmine</td>\n",
              "      <td>Nothing</td>\n",
              "    </tr>\n",
              "    <tr>\n",
              "      <th>13</th>\n",
              "      <td>Murad Hossain</td>\n",
              "      <td>murad15-2412@diu.edu.bd</td>\n",
              "      <td>23.0</td>\n",
              "      <td>0</td>\n",
              "      <td>0</td>\n",
              "      <td>3</td>\n",
              "      <td>0</td>\n",
              "      <td>0</td>\n",
              "      <td>1</td>\n",
              "      <td>0</td>\n",
              "      <td>I Don't like flower</td>\n",
              "      <td>NaN</td>\n",
              "    </tr>\n",
              "    <tr>\n",
              "      <th>14</th>\n",
              "      <td>Muhammad Mahmudul</td>\n",
              "      <td>mahmudul15-2711@diu.edu.bd</td>\n",
              "      <td>24.0</td>\n",
              "      <td>0</td>\n",
              "      <td>2</td>\n",
              "      <td>1</td>\n",
              "      <td>0</td>\n",
              "      <td>0</td>\n",
              "      <td>1</td>\n",
              "      <td>1</td>\n",
              "      <td>Daffodil</td>\n",
              "      <td>Carry on</td>\n",
              "    </tr>\n",
              "    <tr>\n",
              "      <th>15</th>\n",
              "      <td>Robiul hasan</td>\n",
              "      <td>robiul15-2516@diu.edu.bd</td>\n",
              "      <td>22.0</td>\n",
              "      <td>0</td>\n",
              "      <td>2</td>\n",
              "      <td>3</td>\n",
              "      <td>0</td>\n",
              "      <td>0</td>\n",
              "      <td>1</td>\n",
              "      <td>1</td>\n",
              "      <td>Red Rose</td>\n",
              "      <td>NaN</td>\n",
              "    </tr>\n",
              "    <tr>\n",
              "      <th>16</th>\n",
              "      <td>Ashikur Rahman</td>\n",
              "      <td>rsshanto34@gmail.com</td>\n",
              "      <td>24.0</td>\n",
              "      <td>0</td>\n",
              "      <td>2</td>\n",
              "      <td>1</td>\n",
              "      <td>0</td>\n",
              "      <td>0</td>\n",
              "      <td>1</td>\n",
              "      <td>1</td>\n",
              "      <td>Black rose</td>\n",
              "      <td>No comments</td>\n",
              "    </tr>\n",
              "    <tr>\n",
              "      <th>17</th>\n",
              "      <td>Tahomin Taslima Eya</td>\n",
              "      <td>tahomin35-373@diu.edu.bd</td>\n",
              "      <td>20.0</td>\n",
              "      <td>1</td>\n",
              "      <td>3</td>\n",
              "      <td>2</td>\n",
              "      <td>0</td>\n",
              "      <td>0</td>\n",
              "      <td>1</td>\n",
              "      <td>1</td>\n",
              "      <td>Zinnia</td>\n",
              "      <td>NaN</td>\n",
              "    </tr>\n",
              "    <tr>\n",
              "      <th>18</th>\n",
              "      <td>Mustafizur Rahman</td>\n",
              "      <td>mr2480379@gmail.com</td>\n",
              "      <td>23.0</td>\n",
              "      <td>0</td>\n",
              "      <td>1</td>\n",
              "      <td>2</td>\n",
              "      <td>0</td>\n",
              "      <td>0</td>\n",
              "      <td>1</td>\n",
              "      <td>1</td>\n",
              "      <td>Red Rose</td>\n",
              "      <td>NaN</td>\n",
              "    </tr>\n",
              "    <tr>\n",
              "      <th>19</th>\n",
              "      <td>Kazi Mizanur Rahman</td>\n",
              "      <td>kazi47-219@diu.bd.edu</td>\n",
              "      <td>25.0</td>\n",
              "      <td>0</td>\n",
              "      <td>0</td>\n",
              "      <td>3</td>\n",
              "      <td>0</td>\n",
              "      <td>0</td>\n",
              "      <td>1</td>\n",
              "      <td>1</td>\n",
              "      <td>Red Rose</td>\n",
              "      <td>NaN</td>\n",
              "    </tr>\n",
              "  </tbody>\n",
              "</table>\n",
              "</div>"
            ],
            "text/plain": [
              "                    Name  ...             Comments\n",
              "0          Jahirul Islam  ...             Go Ahead\n",
              "1                   Asif  ...                  NaN\n",
              "2    Tasrin Jahan Mishu   ...  It was interesting \n",
              "3           Nadia Rahman  ...            Thank you\n",
              "4          Fatima yesmin  ...              Not yet\n",
              "5            Ahsan Habib  ...                  NaN\n",
              "6          Sharmin akter  ...                  NaN\n",
              "7   Ashik Mahmud Reshat   ...                  NaN\n",
              "8       owali alam himel  ...                  NaN\n",
              "9                 Shahid  ...                  NaN\n",
              "10     Naimul Hasan Akib  ...          interesting\n",
              "11         kalpana akter  ...                 nice\n",
              "12            Afsana Mou  ...              Nothing\n",
              "13         Murad Hossain  ...                  NaN\n",
              "14     Muhammad Mahmudul  ...             Carry on\n",
              "15          Robiul hasan  ...                  NaN\n",
              "16        Ashikur Rahman  ...          No comments\n",
              "17   Tahomin Taslima Eya  ...                  NaN\n",
              "18     Mustafizur Rahman  ...                  NaN\n",
              "19   Kazi Mizanur Rahman  ...                  NaN\n",
              "\n",
              "[20 rows x 12 columns]"
            ]
          },
          "metadata": {
            "tags": []
          },
          "execution_count": 148
        }
      ]
    },
    {
      "cell_type": "code",
      "metadata": {
        "colab": {
          "base_uri": "https://localhost:8080/",
          "height": 351
        },
        "id": "4tCAEregE0sl",
        "outputId": "2e85e078-d606-464b-da9d-952b675267f1"
      },
      "source": [
        "bar_chart('Age')"
      ],
      "execution_count": null,
      "outputs": [
        {
          "output_type": "display_data",
          "data": {
            "image/png": "[encoded data removed]",
            "text/plain": [
              "<Figure size 720x360 with 1 Axes>"
            ]
          },
          "metadata": {
            "tags": []
          }
        }
      ]
    },
    {
      "cell_type": "markdown",
      "metadata": {
        "id": "1RyFN9y-nd7p"
      },
      "source": [
        "#**Create a function to see seaborn.**"
      ]
    },
    {
      "cell_type": "code",
      "metadata": {
        "colab": {
          "base_uri": "https://localhost:8080/",
          "height": 221
        },
        "id": "O63cCdNRFN0L",
        "outputId": "93743d2b-78a0-4c2d-febb-eae93410f33a"
      },
      "source": [
        "facet = sns.FacetGrid(rose, hue=\"Preference\",aspect=4)\n",
        "facet.map(sns.kdeplot,'Age',shade= True)\n",
        "facet.set(xlim=(0, rose['Age'].max()))\n",
        "facet.add_legend()\n",
        "plt.show()"
      ],
      "execution_count": null,
      "outputs": [
        {
          "output_type": "display_data",
          "data": {
            "image/png": "[encoded data removed]",
            "text/plain": [
              "<Figure size 937.05x216 with 1 Axes>"
            ]
          },
          "metadata": {
            "tags": []
          }
        }
      ]
    },
    {
      "cell_type": "code",
      "metadata": {
        "colab": {
          "base_uri": "https://localhost:8080/",
          "height": 238
        },
        "id": "wUREbRxPFpEg",
        "outputId": "08812832-7bdb-44cc-bb2f-f5dbde0a8981"
      },
      "source": [
        "facet = sns.FacetGrid(rose, hue=\"Preference\",aspect=4)\n",
        "facet.map(sns.kdeplot,'Age',shade= True)\n",
        "facet.set(xlim=(0, rose['Age'].max()))\n",
        "facet.add_legend()\n",
        "plt.xlim(0,20)"
      ],
      "execution_count": null,
      "outputs": [
        {
          "output_type": "execute_result",
          "data": {
            "text/plain": [
              "(0.0, 20.0)"
            ]
          },
          "metadata": {
            "tags": []
          },
          "execution_count": 151
        },
        {
          "output_type": "display_data",
          "data": {
            "image/png": "[encoded data removed]",
            "text/plain": [
              "<Figure size 937.05x216 with 1 Axes>"
            ]
          },
          "metadata": {
            "tags": []
          }
        }
      ]
    },
    {
      "cell_type": "code",
      "metadata": {
        "colab": {
          "base_uri": "https://localhost:8080/",
          "height": 238
        },
        "id": "N8BGdud1GAgi",
        "outputId": "daba4ab6-53e7-4fef-b833-ee1818324b32"
      },
      "source": [
        "facet = sns.FacetGrid(rose, hue=\"Preference\",aspect=4)\n",
        "facet.map(sns.kdeplot,'Age',shade= True)\n",
        "facet.set(xlim=(0, rose['Age'].max()))\n",
        "facet.add_legend()\n",
        "plt.xlim(20,30)"
      ],
      "execution_count": null,
      "outputs": [
        {
          "output_type": "execute_result",
          "data": {
            "text/plain": [
              "(20.0, 30.0)"
            ]
          },
          "metadata": {
            "tags": []
          },
          "execution_count": 152
        },
        {
          "output_type": "display_data",
          "data": {
            "image/png": "[encoded data removed]",
            "text/plain": [
              "<Figure size 937.05x216 with 1 Axes>"
            ]
          },
          "metadata": {
            "tags": []
          }
        }
      ]
    },
    {
      "cell_type": "code",
      "metadata": {
        "colab": {
          "base_uri": "https://localhost:8080/",
          "height": 238
        },
        "id": "PSj4KWC5GM2c",
        "outputId": "2932f63c-1a3a-45cf-955f-f1306c18faa8"
      },
      "source": [
        "facet = sns.FacetGrid(rose, hue=\"Preference\",aspect=4)\n",
        "facet.map(sns.kdeplot,'Age',shade= True)\n",
        "facet.set(xlim=(0, rose['Age'].max()))\n",
        "facet.add_legend()\n",
        "plt.xlim(30,40)"
      ],
      "execution_count": null,
      "outputs": [
        {
          "output_type": "execute_result",
          "data": {
            "text/plain": [
              "(30.0, 40.0)"
            ]
          },
          "metadata": {
            "tags": []
          },
          "execution_count": 153
        },
        {
          "output_type": "display_data",
          "data": {
            "image/png": "[encoded data removed]",
            "text/plain": [
              "<Figure size 937.05x216 with 1 Axes>"
            ]
          },
          "metadata": {
            "tags": []
          }
        }
      ]
    },
    {
      "cell_type": "code",
      "metadata": {
        "colab": {
          "base_uri": "https://localhost:8080/",
          "height": 238
        },
        "id": "ChMOMxmeGRs0",
        "outputId": "3a34db08-ad0d-43a0-d740-2ee19a89e64a"
      },
      "source": [
        "facet = sns.FacetGrid(rose, hue=\"Preference\",aspect=4)\n",
        "facet.map(sns.kdeplot,'Age',shade= True)\n",
        "facet.set(xlim=(0, rose['Age'].max()))\n",
        "facet.add_legend()\n",
        "plt.xlim(40,50)"
      ],
      "execution_count": null,
      "outputs": [
        {
          "output_type": "execute_result",
          "data": {
            "text/plain": [
              "(40.0, 50.0)"
            ]
          },
          "metadata": {
            "tags": []
          },
          "execution_count": 154
        },
        {
          "output_type": "display_data",
          "data": {
            "image/png": "[encoded data removed]",
            "text/plain": [
              "<Figure size 937.05x216 with 1 Axes>"
            ]
          },
          "metadata": {
            "tags": []
          }
        }
      ]
    },
    {
      "cell_type": "code",
      "metadata": {
        "colab": {
          "base_uri": "https://localhost:8080/",
          "height": 238
        },
        "id": "Ymw2NrC9GUDW",
        "outputId": "9480b55f-040b-4cdf-9d7d-9daed84dea7b"
      },
      "source": [
        "facet = sns.FacetGrid(rose, hue=\"Preference\",aspect=4)\n",
        "facet.map(sns.kdeplot,'Age',shade= True)\n",
        "facet.set(xlim=(0, rose['Age'].max()))\n",
        "facet.add_legend()\n",
        "plt.xlim(50,60)"
      ],
      "execution_count": null,
      "outputs": [
        {
          "output_type": "execute_result",
          "data": {
            "text/plain": [
              "(50.0, 60.0)"
            ]
          },
          "metadata": {
            "tags": []
          },
          "execution_count": 155
        },
        {
          "output_type": "display_data",
          "data": {
            "image/png": "[encoded data removed]",
            "text/plain": [
              "<Figure size 937.05x216 with 1 Axes>"
            ]
          },
          "metadata": {
            "tags": []
          }
        }
      ]
    },
    {
      "cell_type": "markdown",
      "metadata": {
        "id": "DuZSN48Nnpv9"
      },
      "source": [
        "#**Value count of age column**"
      ]
    },
    {
      "cell_type": "code",
      "metadata": {
        "id": "v5GiISIdPJed",
        "colab": {
          "base_uri": "https://localhost:8080/"
        },
        "outputId": "f57c18b1-cfbd-4eaf-c1db-98fb52aba4f8"
      },
      "source": [
        "rose['Age'].value_counts()"
      ],
      "execution_count": null,
      "outputs": [
        {
          "output_type": "execute_result",
          "data": {
            "text/plain": [
              "23.0    89\n",
              "22.0    87\n",
              "21.0    51\n",
              "20.0    48\n",
              "24.0    37\n",
              "25.0    17\n",
              "29.0    13\n",
              "26.0    12\n",
              "19.0    11\n",
              "27.0     6\n",
              "28.0     6\n",
              "18.0     3\n",
              "41.0     2\n",
              "42.0     2\n",
              "52.0     2\n",
              "35.0     1\n",
              "Name: Age, dtype: int64"
            ]
          },
          "metadata": {
            "tags": []
          },
          "execution_count": 156
        }
      ]
    },
    {
      "cell_type": "markdown",
      "metadata": {
        "id": "ExYG9eDPnw8u"
      },
      "source": [
        "#**Fillup missing values by using median**"
      ]
    },
    {
      "cell_type": "code",
      "metadata": {
        "id": "QlwZhOlrvyIb"
      },
      "source": [
        "rose[\"Age\"].fillna(rose.groupby(\"Sex\")[\"Age\"].transform(\"median\"), inplace=True)"
      ],
      "execution_count": null,
      "outputs": []
    },
    {
      "cell_type": "code",
      "metadata": {
        "colab": {
          "base_uri": "https://localhost:8080/"
        },
        "id": "KpXl2LX6v-rV",
        "outputId": "d4ff4130-4366-4a31-ff4a-d31c361d5c84"
      },
      "source": [
        "rose.groupby(\"Sex\")[\"Age\"].transform(\"median\")"
      ],
      "execution_count": null,
      "outputs": [
        {
          "output_type": "execute_result",
          "data": {
            "text/plain": [
              "0      23.0\n",
              "1      23.0\n",
              "2      22.0\n",
              "3      22.0\n",
              "4      22.0\n",
              "       ... \n",
              "399    23.0\n",
              "400    23.0\n",
              "401    22.0\n",
              "402    23.0\n",
              "403    23.0\n",
              "Name: Age, Length: 404, dtype: float64"
            ]
          },
          "metadata": {
            "tags": []
          },
          "execution_count": 158
        }
      ]
    },
    {
      "cell_type": "code",
      "metadata": {
        "colab": {
          "base_uri": "https://localhost:8080/"
        },
        "id": "J8UM9TYhJGBF",
        "outputId": "41418328-146e-4518-b184-77c3519402b9"
      },
      "source": [
        "rose.isnull().sum()"
      ],
      "execution_count": null,
      "outputs": [
        {
          "output_type": "execute_result",
          "data": {
            "text/plain": [
              "Name                  0\n",
              "Email                 0\n",
              "Age                   0\n",
              "Sex                   0\n",
              "Address               0\n",
              "Sim_Company           0\n",
              "Marital_Status        0\n",
              "Religion              0\n",
              "Occupation            0\n",
              "Preference            0\n",
              "Favourite_Flower      0\n",
              "Comments            324\n",
              "dtype: int64"
            ]
          },
          "metadata": {
            "tags": []
          },
          "execution_count": 159
        }
      ]
    },
    {
      "cell_type": "markdown",
      "metadata": {
        "id": "th5AwE5Ln8XU"
      },
      "source": [
        "#**Grouping age in a particular range**"
      ]
    },
    {
      "cell_type": "code",
      "metadata": {
        "id": "Ux_assp0PIsw"
      },
      "source": [
        "for dataset in rose_test_data:\n",
        "    dataset.loc[ dataset['Age'] <= 18, 'Age'] = 0\n",
        "    dataset.loc[(dataset['Age'] > 18) & (dataset['Age'] <= 21), 'Age'] = 1\n",
        "    dataset.loc[(dataset['Age'] > 21) & (dataset['Age'] <= 25), 'Age'] = 2\n",
        "    dataset.loc[(dataset['Age'] > 25) & (dataset['Age'] <= 35), 'Age'] = 3\n",
        "    dataset.loc[ dataset['Age'] > 35, 'Age'] = 4"
      ],
      "execution_count": null,
      "outputs": []
    },
    {
      "cell_type": "code",
      "metadata": {
        "colab": {
          "base_uri": "https://localhost:8080/"
        },
        "id": "1HALEExLIGCL",
        "outputId": "c785d21d-834a-4cd6-f2dc-a23a1f23dfd6"
      },
      "source": [
        "rose['Age'].value_counts()"
      ],
      "execution_count": null,
      "outputs": [
        {
          "output_type": "execute_result",
          "data": {
            "text/plain": [
              "2.0    247\n",
              "1.0    110\n",
              "3.0     38\n",
              "4.0      6\n",
              "0.0      3\n",
              "Name: Age, dtype: int64"
            ]
          },
          "metadata": {
            "tags": []
          },
          "execution_count": 161
        }
      ]
    },
    {
      "cell_type": "code",
      "metadata": {
        "id": "YT-0XPLkPwNa",
        "colab": {
          "base_uri": "https://localhost:8080/",
          "height": 196
        },
        "outputId": "e39784d1-2eb7-41b5-c47c-09ba9adba58b"
      },
      "source": [
        "rose.head()"
      ],
      "execution_count": null,
      "outputs": [
        {
          "output_type": "execute_result",
          "data": {
            "text/html": [
              "<div>\n",
              "<style scoped>\n",
              "    .dataframe tbody tr th:only-of-type {\n",
              "        vertical-align: middle;\n",
              "    }\n",
              "\n",
              "    .dataframe tbody tr th {\n",
              "        vertical-align: top;\n",
              "    }\n",
              "\n",
              "    .dataframe thead th {\n",
              "        text-align: right;\n",
              "    }\n",
              "</style>\n",
              "<table border=\"1\" class=\"dataframe\">\n",
              "  <thead>\n",
              "    <tr style=\"text-align: right;\">\n",
              "      <th></th>\n",
              "      <th>Name</th>\n",
              "      <th>Email</th>\n",
              "      <th>Age</th>\n",
              "      <th>Sex</th>\n",
              "      <th>Address</th>\n",
              "      <th>Sim_Company</th>\n",
              "      <th>Marital_Status</th>\n",
              "      <th>Religion</th>\n",
              "      <th>Occupation</th>\n",
              "      <th>Preference</th>\n",
              "      <th>Favourite_Flower</th>\n",
              "      <th>Comments</th>\n",
              "    </tr>\n",
              "  </thead>\n",
              "  <tbody>\n",
              "    <tr>\n",
              "      <th>0</th>\n",
              "      <td>Jahirul Islam</td>\n",
              "      <td>jahirul15-2752@diu.edu.bd</td>\n",
              "      <td>2.0</td>\n",
              "      <td>0</td>\n",
              "      <td>2</td>\n",
              "      <td>2</td>\n",
              "      <td>0</td>\n",
              "      <td>0</td>\n",
              "      <td>1</td>\n",
              "      <td>1</td>\n",
              "      <td>Zinnia</td>\n",
              "      <td>Go Ahead</td>\n",
              "    </tr>\n",
              "    <tr>\n",
              "      <th>1</th>\n",
              "      <td>Asif</td>\n",
              "      <td>asif15-2750@diu.edu.bd</td>\n",
              "      <td>2.0</td>\n",
              "      <td>0</td>\n",
              "      <td>1</td>\n",
              "      <td>1</td>\n",
              "      <td>0</td>\n",
              "      <td>0</td>\n",
              "      <td>1</td>\n",
              "      <td>1</td>\n",
              "      <td>Red Rose</td>\n",
              "      <td>NaN</td>\n",
              "    </tr>\n",
              "    <tr>\n",
              "      <th>2</th>\n",
              "      <td>Tasrin Jahan Mishu</td>\n",
              "      <td>tasrin15-2706@diu.edu.bd</td>\n",
              "      <td>1.0</td>\n",
              "      <td>1</td>\n",
              "      <td>2</td>\n",
              "      <td>1</td>\n",
              "      <td>0</td>\n",
              "      <td>0</td>\n",
              "      <td>1</td>\n",
              "      <td>1</td>\n",
              "      <td>White daisy</td>\n",
              "      <td>It was interesting</td>\n",
              "    </tr>\n",
              "    <tr>\n",
              "      <th>3</th>\n",
              "      <td>Nadia Rahman</td>\n",
              "      <td>nadia15-2763@diu.edu.bd</td>\n",
              "      <td>1.0</td>\n",
              "      <td>1</td>\n",
              "      <td>0</td>\n",
              "      <td>1</td>\n",
              "      <td>0</td>\n",
              "      <td>0</td>\n",
              "      <td>1</td>\n",
              "      <td>0</td>\n",
              "      <td>I Don't like flower</td>\n",
              "      <td>Thank you</td>\n",
              "    </tr>\n",
              "    <tr>\n",
              "      <th>4</th>\n",
              "      <td>Fatima yesmin</td>\n",
              "      <td>fatima15-1850@diu.edu.bd</td>\n",
              "      <td>2.0</td>\n",
              "      <td>1</td>\n",
              "      <td>3</td>\n",
              "      <td>1</td>\n",
              "      <td>0</td>\n",
              "      <td>0</td>\n",
              "      <td>1</td>\n",
              "      <td>1</td>\n",
              "      <td>Red Rose</td>\n",
              "      <td>Not yet</td>\n",
              "    </tr>\n",
              "  </tbody>\n",
              "</table>\n",
              "</div>"
            ],
            "text/plain": [
              "                  Name  ...             Comments\n",
              "0        Jahirul Islam  ...             Go Ahead\n",
              "1                 Asif  ...                  NaN\n",
              "2  Tasrin Jahan Mishu   ...  It was interesting \n",
              "3         Nadia Rahman  ...            Thank you\n",
              "4        Fatima yesmin  ...              Not yet\n",
              "\n",
              "[5 rows x 12 columns]"
            ]
          },
          "metadata": {
            "tags": []
          },
          "execution_count": 162
        }
      ]
    },
    {
      "cell_type": "code",
      "metadata": {
        "colab": {
          "base_uri": "https://localhost:8080/"
        },
        "id": "zHsB99OJJgyq",
        "outputId": "946e821d-6b31-43da-9815-f8e42b07b7dd"
      },
      "source": [
        "rose['Email'].value_counts()"
      ],
      "execution_count": null,
      "outputs": [
        {
          "output_type": "execute_result",
          "data": {
            "text/plain": [
              "shilpy33@gmail.com        2\n",
              "mitu35-283@diu.edu.bd     2\n",
              "rifat8900@gmail.com       2\n",
              "soron98768@outlook.com    2\n",
              "forhad8766@gmail.com      2\n",
              "                         ..\n",
              "reshat242201@gmail.com    1\n",
              "jerinbg190@gmail.com      1\n",
              "rupali8766@gmail.com      1\n",
              "zaki6679@gmail.com        1\n",
              "lili33567@gmail.com       1\n",
              "Name: Email, Length: 377, dtype: int64"
            ]
          },
          "metadata": {
            "tags": []
          },
          "execution_count": 163
        }
      ]
    },
    {
      "cell_type": "code",
      "metadata": {
        "colab": {
          "base_uri": "https://localhost:8080/"
        },
        "id": "wvDlXvS7JmNs",
        "outputId": "733827ef-76e2-4e4c-f2ff-e9a91834de14"
      },
      "source": [
        "rose.isnull().sum()"
      ],
      "execution_count": null,
      "outputs": [
        {
          "output_type": "execute_result",
          "data": {
            "text/plain": [
              "Name                  0\n",
              "Email                 0\n",
              "Age                   0\n",
              "Sex                   0\n",
              "Address               0\n",
              "Sim_Company           0\n",
              "Marital_Status        0\n",
              "Religion              0\n",
              "Occupation            0\n",
              "Preference            0\n",
              "Favourite_Flower      0\n",
              "Comments            324\n",
              "dtype: int64"
            ]
          },
          "metadata": {
            "tags": []
          },
          "execution_count": 164
        }
      ]
    },
    {
      "cell_type": "code",
      "metadata": {
        "id": "dU08IPGGRpVN",
        "colab": {
          "base_uri": "https://localhost:8080/",
          "height": 196
        },
        "outputId": "cc6e4847-a8cf-42c7-fdf3-607181fa20b4"
      },
      "source": [
        "rose.head()"
      ],
      "execution_count": null,
      "outputs": [
        {
          "output_type": "execute_result",
          "data": {
            "text/html": [
              "<div>\n",
              "<style scoped>\n",
              "    .dataframe tbody tr th:only-of-type {\n",
              "        vertical-align: middle;\n",
              "    }\n",
              "\n",
              "    .dataframe tbody tr th {\n",
              "        vertical-align: top;\n",
              "    }\n",
              "\n",
              "    .dataframe thead th {\n",
              "        text-align: right;\n",
              "    }\n",
              "</style>\n",
              "<table border=\"1\" class=\"dataframe\">\n",
              "  <thead>\n",
              "    <tr style=\"text-align: right;\">\n",
              "      <th></th>\n",
              "      <th>Name</th>\n",
              "      <th>Email</th>\n",
              "      <th>Age</th>\n",
              "      <th>Sex</th>\n",
              "      <th>Address</th>\n",
              "      <th>Sim_Company</th>\n",
              "      <th>Marital_Status</th>\n",
              "      <th>Religion</th>\n",
              "      <th>Occupation</th>\n",
              "      <th>Preference</th>\n",
              "      <th>Favourite_Flower</th>\n",
              "      <th>Comments</th>\n",
              "    </tr>\n",
              "  </thead>\n",
              "  <tbody>\n",
              "    <tr>\n",
              "      <th>0</th>\n",
              "      <td>Jahirul Islam</td>\n",
              "      <td>jahirul15-2752@diu.edu.bd</td>\n",
              "      <td>2.0</td>\n",
              "      <td>0</td>\n",
              "      <td>2</td>\n",
              "      <td>2</td>\n",
              "      <td>0</td>\n",
              "      <td>0</td>\n",
              "      <td>1</td>\n",
              "      <td>1</td>\n",
              "      <td>Zinnia</td>\n",
              "      <td>Go Ahead</td>\n",
              "    </tr>\n",
              "    <tr>\n",
              "      <th>1</th>\n",
              "      <td>Asif</td>\n",
              "      <td>asif15-2750@diu.edu.bd</td>\n",
              "      <td>2.0</td>\n",
              "      <td>0</td>\n",
              "      <td>1</td>\n",
              "      <td>1</td>\n",
              "      <td>0</td>\n",
              "      <td>0</td>\n",
              "      <td>1</td>\n",
              "      <td>1</td>\n",
              "      <td>Red Rose</td>\n",
              "      <td>NaN</td>\n",
              "    </tr>\n",
              "    <tr>\n",
              "      <th>2</th>\n",
              "      <td>Tasrin Jahan Mishu</td>\n",
              "      <td>tasrin15-2706@diu.edu.bd</td>\n",
              "      <td>1.0</td>\n",
              "      <td>1</td>\n",
              "      <td>2</td>\n",
              "      <td>1</td>\n",
              "      <td>0</td>\n",
              "      <td>0</td>\n",
              "      <td>1</td>\n",
              "      <td>1</td>\n",
              "      <td>White daisy</td>\n",
              "      <td>It was interesting</td>\n",
              "    </tr>\n",
              "    <tr>\n",
              "      <th>3</th>\n",
              "      <td>Nadia Rahman</td>\n",
              "      <td>nadia15-2763@diu.edu.bd</td>\n",
              "      <td>1.0</td>\n",
              "      <td>1</td>\n",
              "      <td>0</td>\n",
              "      <td>1</td>\n",
              "      <td>0</td>\n",
              "      <td>0</td>\n",
              "      <td>1</td>\n",
              "      <td>0</td>\n",
              "      <td>I Don't like flower</td>\n",
              "      <td>Thank you</td>\n",
              "    </tr>\n",
              "    <tr>\n",
              "      <th>4</th>\n",
              "      <td>Fatima yesmin</td>\n",
              "      <td>fatima15-1850@diu.edu.bd</td>\n",
              "      <td>2.0</td>\n",
              "      <td>1</td>\n",
              "      <td>3</td>\n",
              "      <td>1</td>\n",
              "      <td>0</td>\n",
              "      <td>0</td>\n",
              "      <td>1</td>\n",
              "      <td>1</td>\n",
              "      <td>Red Rose</td>\n",
              "      <td>Not yet</td>\n",
              "    </tr>\n",
              "  </tbody>\n",
              "</table>\n",
              "</div>"
            ],
            "text/plain": [
              "                  Name  ...             Comments\n",
              "0        Jahirul Islam  ...             Go Ahead\n",
              "1                 Asif  ...                  NaN\n",
              "2  Tasrin Jahan Mishu   ...  It was interesting \n",
              "3         Nadia Rahman  ...            Thank you\n",
              "4        Fatima yesmin  ...              Not yet\n",
              "\n",
              "[5 rows x 12 columns]"
            ]
          },
          "metadata": {
            "tags": []
          },
          "execution_count": 165
        }
      ]
    },
    {
      "cell_type": "code",
      "metadata": {
        "id": "JlseBHwN9Ow6",
        "colab": {
          "base_uri": "https://localhost:8080/"
        },
        "outputId": "8baa0d7d-c949-4bd8-8b7c-96f99f4562fe"
      },
      "source": [
        "rose.isnull().sum()"
      ],
      "execution_count": null,
      "outputs": [
        {
          "output_type": "execute_result",
          "data": {
            "text/plain": [
              "Name                  0\n",
              "Email                 0\n",
              "Age                   0\n",
              "Sex                   0\n",
              "Address               0\n",
              "Sim_Company           0\n",
              "Marital_Status        0\n",
              "Religion              0\n",
              "Occupation            0\n",
              "Preference            0\n",
              "Favourite_Flower      0\n",
              "Comments            324\n",
              "dtype: int64"
            ]
          },
          "metadata": {
            "tags": []
          },
          "execution_count": 166
        }
      ]
    },
    {
      "cell_type": "markdown",
      "metadata": {
        "id": "YRRsU66SYa_l"
      },
      "source": [
        "#**Show some optional work. It is just show temporery fillup values in a column**"
      ]
    },
    {
      "cell_type": "code",
      "metadata": {
        "colab": {
          "base_uri": "https://localhost:8080/"
        },
        "id": "Bd_TIXEbOLB6",
        "outputId": "097e81fc-37ba-434a-f47a-ed4d614d145c"
      },
      "source": [
        "rose['Comments'].head(305)"
      ],
      "execution_count": null,
      "outputs": [
        {
          "output_type": "execute_result",
          "data": {
            "text/plain": [
              "0                 Go Ahead\n",
              "1                      NaN\n",
              "2      It was interesting \n",
              "3                Thank you\n",
              "4                  Not yet\n",
              "              ...         \n",
              "300                    NaN\n",
              "301                    NaN\n",
              "302                Nothing\n",
              "303                Nothing\n",
              "304              Thank you\n",
              "Name: Comments, Length: 305, dtype: object"
            ]
          },
          "metadata": {
            "tags": []
          },
          "execution_count": 167
        }
      ]
    },
    {
      "cell_type": "code",
      "metadata": {
        "colab": {
          "base_uri": "https://localhost:8080/"
        },
        "id": "t8PVSnGhOX7T",
        "outputId": "fae861c5-8a90-4bcf-c1ca-759ed094675b"
      },
      "source": [
        "rose['Comments'].fillna(\"Masha Allah\").head(305)"
      ],
      "execution_count": null,
      "outputs": [
        {
          "output_type": "execute_result",
          "data": {
            "text/plain": [
              "0                 Go Ahead\n",
              "1              Masha Allah\n",
              "2      It was interesting \n",
              "3                Thank you\n",
              "4                  Not yet\n",
              "              ...         \n",
              "300            Masha Allah\n",
              "301            Masha Allah\n",
              "302                Nothing\n",
              "303                Nothing\n",
              "304              Thank you\n",
              "Name: Comments, Length: 305, dtype: object"
            ]
          },
          "metadata": {
            "tags": []
          },
          "execution_count": 168
        }
      ]
    },
    {
      "cell_type": "code",
      "metadata": {
        "colab": {
          "base_uri": "https://localhost:8080/"
        },
        "id": "cl_63tjp0EXm",
        "outputId": "1cb8a56c-d405-4c8a-f9c1-74509c402f8b"
      },
      "source": [
        "rose.isnull().sum()"
      ],
      "execution_count": null,
      "outputs": [
        {
          "output_type": "execute_result",
          "data": {
            "text/plain": [
              "Name                  0\n",
              "Email                 0\n",
              "Age                   0\n",
              "Sex                   0\n",
              "Address               0\n",
              "Sim_Company           0\n",
              "Marital_Status        0\n",
              "Religion              0\n",
              "Occupation            0\n",
              "Preference            0\n",
              "Favourite_Flower      0\n",
              "Comments            324\n",
              "dtype: int64"
            ]
          },
          "metadata": {
            "tags": []
          },
          "execution_count": 169
        }
      ]
    },
    {
      "cell_type": "code",
      "metadata": {
        "colab": {
          "base_uri": "https://localhost:8080/",
          "height": 196
        },
        "id": "yveFC19tz_78",
        "outputId": "9ed371a7-a807-4cd4-aee7-727b2f8a69d2"
      },
      "source": [
        "rose.head()"
      ],
      "execution_count": null,
      "outputs": [
        {
          "output_type": "execute_result",
          "data": {
            "text/html": [
              "<div>\n",
              "<style scoped>\n",
              "    .dataframe tbody tr th:only-of-type {\n",
              "        vertical-align: middle;\n",
              "    }\n",
              "\n",
              "    .dataframe tbody tr th {\n",
              "        vertical-align: top;\n",
              "    }\n",
              "\n",
              "    .dataframe thead th {\n",
              "        text-align: right;\n",
              "    }\n",
              "</style>\n",
              "<table border=\"1\" class=\"dataframe\">\n",
              "  <thead>\n",
              "    <tr style=\"text-align: right;\">\n",
              "      <th></th>\n",
              "      <th>Name</th>\n",
              "      <th>Email</th>\n",
              "      <th>Age</th>\n",
              "      <th>Sex</th>\n",
              "      <th>Address</th>\n",
              "      <th>Sim_Company</th>\n",
              "      <th>Marital_Status</th>\n",
              "      <th>Religion</th>\n",
              "      <th>Occupation</th>\n",
              "      <th>Preference</th>\n",
              "      <th>Favourite_Flower</th>\n",
              "      <th>Comments</th>\n",
              "    </tr>\n",
              "  </thead>\n",
              "  <tbody>\n",
              "    <tr>\n",
              "      <th>0</th>\n",
              "      <td>Jahirul Islam</td>\n",
              "      <td>jahirul15-2752@diu.edu.bd</td>\n",
              "      <td>2.0</td>\n",
              "      <td>0</td>\n",
              "      <td>2</td>\n",
              "      <td>2</td>\n",
              "      <td>0</td>\n",
              "      <td>0</td>\n",
              "      <td>1</td>\n",
              "      <td>1</td>\n",
              "      <td>Zinnia</td>\n",
              "      <td>Go Ahead</td>\n",
              "    </tr>\n",
              "    <tr>\n",
              "      <th>1</th>\n",
              "      <td>Asif</td>\n",
              "      <td>asif15-2750@diu.edu.bd</td>\n",
              "      <td>2.0</td>\n",
              "      <td>0</td>\n",
              "      <td>1</td>\n",
              "      <td>1</td>\n",
              "      <td>0</td>\n",
              "      <td>0</td>\n",
              "      <td>1</td>\n",
              "      <td>1</td>\n",
              "      <td>Red Rose</td>\n",
              "      <td>NaN</td>\n",
              "    </tr>\n",
              "    <tr>\n",
              "      <th>2</th>\n",
              "      <td>Tasrin Jahan Mishu</td>\n",
              "      <td>tasrin15-2706@diu.edu.bd</td>\n",
              "      <td>1.0</td>\n",
              "      <td>1</td>\n",
              "      <td>2</td>\n",
              "      <td>1</td>\n",
              "      <td>0</td>\n",
              "      <td>0</td>\n",
              "      <td>1</td>\n",
              "      <td>1</td>\n",
              "      <td>White daisy</td>\n",
              "      <td>It was interesting</td>\n",
              "    </tr>\n",
              "    <tr>\n",
              "      <th>3</th>\n",
              "      <td>Nadia Rahman</td>\n",
              "      <td>nadia15-2763@diu.edu.bd</td>\n",
              "      <td>1.0</td>\n",
              "      <td>1</td>\n",
              "      <td>0</td>\n",
              "      <td>1</td>\n",
              "      <td>0</td>\n",
              "      <td>0</td>\n",
              "      <td>1</td>\n",
              "      <td>0</td>\n",
              "      <td>I Don't like flower</td>\n",
              "      <td>Thank you</td>\n",
              "    </tr>\n",
              "    <tr>\n",
              "      <th>4</th>\n",
              "      <td>Fatima yesmin</td>\n",
              "      <td>fatima15-1850@diu.edu.bd</td>\n",
              "      <td>2.0</td>\n",
              "      <td>1</td>\n",
              "      <td>3</td>\n",
              "      <td>1</td>\n",
              "      <td>0</td>\n",
              "      <td>0</td>\n",
              "      <td>1</td>\n",
              "      <td>1</td>\n",
              "      <td>Red Rose</td>\n",
              "      <td>Not yet</td>\n",
              "    </tr>\n",
              "  </tbody>\n",
              "</table>\n",
              "</div>"
            ],
            "text/plain": [
              "                  Name  ...             Comments\n",
              "0        Jahirul Islam  ...             Go Ahead\n",
              "1                 Asif  ...                  NaN\n",
              "2  Tasrin Jahan Mishu   ...  It was interesting \n",
              "3         Nadia Rahman  ...            Thank you\n",
              "4        Fatima yesmin  ...              Not yet\n",
              "\n",
              "[5 rows x 12 columns]"
            ]
          },
          "metadata": {
            "tags": []
          },
          "execution_count": 170
        }
      ]
    },
    {
      "cell_type": "markdown",
      "metadata": {
        "id": "sB-H0UDGoY5z"
      },
      "source": [
        "#**Dropping unnecessary columns in dataset**"
      ]
    },
    {
      "cell_type": "code",
      "metadata": {
        "id": "B4Uzsgcnp2Z_"
      },
      "source": [
        "features_drop = ['Name', 'Email', 'Favourite_Flower', 'Comments']\n",
        "rose = rose.drop(features_drop, axis=1)"
      ],
      "execution_count": null,
      "outputs": []
    },
    {
      "cell_type": "code",
      "metadata": {
        "colab": {
          "base_uri": "https://localhost:8080/",
          "height": 196
        },
        "id": "H6T7d7zyp7EL",
        "outputId": "191cbe27-3a99-4799-ff07-decd57358f2b"
      },
      "source": [
        "rose.head()"
      ],
      "execution_count": null,
      "outputs": [
        {
          "output_type": "execute_result",
          "data": {
            "text/html": [
              "<div>\n",
              "<style scoped>\n",
              "    .dataframe tbody tr th:only-of-type {\n",
              "        vertical-align: middle;\n",
              "    }\n",
              "\n",
              "    .dataframe tbody tr th {\n",
              "        vertical-align: top;\n",
              "    }\n",
              "\n",
              "    .dataframe thead th {\n",
              "        text-align: right;\n",
              "    }\n",
              "</style>\n",
              "<table border=\"1\" class=\"dataframe\">\n",
              "  <thead>\n",
              "    <tr style=\"text-align: right;\">\n",
              "      <th></th>\n",
              "      <th>Age</th>\n",
              "      <th>Sex</th>\n",
              "      <th>Address</th>\n",
              "      <th>Sim_Company</th>\n",
              "      <th>Marital_Status</th>\n",
              "      <th>Religion</th>\n",
              "      <th>Occupation</th>\n",
              "      <th>Preference</th>\n",
              "    </tr>\n",
              "  </thead>\n",
              "  <tbody>\n",
              "    <tr>\n",
              "      <th>0</th>\n",
              "      <td>2.0</td>\n",
              "      <td>0</td>\n",
              "      <td>2</td>\n",
              "      <td>2</td>\n",
              "      <td>0</td>\n",
              "      <td>0</td>\n",
              "      <td>1</td>\n",
              "      <td>1</td>\n",
              "    </tr>\n",
              "    <tr>\n",
              "      <th>1</th>\n",
              "      <td>2.0</td>\n",
              "      <td>0</td>\n",
              "      <td>1</td>\n",
              "      <td>1</td>\n",
              "      <td>0</td>\n",
              "      <td>0</td>\n",
              "      <td>1</td>\n",
              "      <td>1</td>\n",
              "    </tr>\n",
              "    <tr>\n",
              "      <th>2</th>\n",
              "      <td>1.0</td>\n",
              "      <td>1</td>\n",
              "      <td>2</td>\n",
              "      <td>1</td>\n",
              "      <td>0</td>\n",
              "      <td>0</td>\n",
              "      <td>1</td>\n",
              "      <td>1</td>\n",
              "    </tr>\n",
              "    <tr>\n",
              "      <th>3</th>\n",
              "      <td>1.0</td>\n",
              "      <td>1</td>\n",
              "      <td>0</td>\n",
              "      <td>1</td>\n",
              "      <td>0</td>\n",
              "      <td>0</td>\n",
              "      <td>1</td>\n",
              "      <td>0</td>\n",
              "    </tr>\n",
              "    <tr>\n",
              "      <th>4</th>\n",
              "      <td>2.0</td>\n",
              "      <td>1</td>\n",
              "      <td>3</td>\n",
              "      <td>1</td>\n",
              "      <td>0</td>\n",
              "      <td>0</td>\n",
              "      <td>1</td>\n",
              "      <td>1</td>\n",
              "    </tr>\n",
              "  </tbody>\n",
              "</table>\n",
              "</div>"
            ],
            "text/plain": [
              "   Age  Sex  Address  ... Religion  Occupation  Preference\n",
              "0  2.0    0        2  ...        0           1           1\n",
              "1  2.0    0        1  ...        0           1           1\n",
              "2  1.0    1        2  ...        0           1           1\n",
              "3  1.0    1        0  ...        0           1           0\n",
              "4  2.0    1        3  ...        0           1           1\n",
              "\n",
              "[5 rows x 8 columns]"
            ]
          },
          "metadata": {
            "tags": []
          },
          "execution_count": 172
        }
      ]
    },
    {
      "cell_type": "code",
      "metadata": {
        "colab": {
          "base_uri": "https://localhost:8080/"
        },
        "id": "Sa_NGPbOoOu9",
        "outputId": "7fa14775-c1fa-4cc1-c173-80d1c979350e"
      },
      "source": [
        "rose.isnull().sum()"
      ],
      "execution_count": null,
      "outputs": [
        {
          "output_type": "execute_result",
          "data": {
            "text/plain": [
              "Age               0\n",
              "Sex               0\n",
              "Address           0\n",
              "Sim_Company       0\n",
              "Marital_Status    0\n",
              "Religion          0\n",
              "Occupation        0\n",
              "Preference        0\n",
              "dtype: int64"
            ]
          },
          "metadata": {
            "tags": []
          },
          "execution_count": 173
        }
      ]
    },
    {
      "cell_type": "markdown",
      "metadata": {
        "id": "IiLBurl1s_tC"
      },
      "source": [
        "#**Dividing the dataset**"
      ]
    },
    {
      "cell_type": "code",
      "metadata": {
        "colab": {
          "base_uri": "https://localhost:8080/"
        },
        "id": "4iVif_HLtEtW",
        "outputId": "4a8e8326-5664-4214-82cd-11834d18b589"
      },
      "source": [
        "# (X_TRAIN->train_data, Y_TRAIN->target), X_TEST, Y_TEST\n",
        "rose_data = rose.drop('Preference', axis=1)     \n",
        "target = rose['Preference']\n",
        "\n",
        "rose_data.shape, target.shape"
      ],
      "execution_count": null,
      "outputs": [
        {
          "output_type": "execute_result",
          "data": {
            "text/plain": [
              "((404, 7), (404,))"
            ]
          },
          "metadata": {
            "tags": []
          },
          "execution_count": 174
        }
      ]
    },
    {
      "cell_type": "markdown",
      "metadata": {
        "id": "OLsJvqejtcQh"
      },
      "source": [
        "#**Splitting the dataset into train and test data**"
      ]
    },
    {
      "cell_type": "code",
      "metadata": {
        "colab": {
          "base_uri": "https://localhost:8080/"
        },
        "id": "TtycFbr4tfEA",
        "outputId": "641eb617-53be-495a-ff8b-5faf2a932a79"
      },
      "source": [
        "#Start Confusion Matrix Evaluation\n",
        "\n",
        "from sklearn.model_selection import train_test_split\n",
        "X_train, X_test, y_train, y_test = train_test_split(rose_data, target, test_size=.20, random_state=42)\n",
        "print(\"X_train: \", X_train.shape)\n",
        "print(\"X_test: \", X_test.shape)\n",
        "print(\"y_train: \", y_train.shape)\n",
        "print(\"y_test: \", y_test.shape)\n",
        "print(y_test)\n",
        "\n",
        "y_test.value_counts()"
      ],
      "execution_count": null,
      "outputs": [
        {
          "output_type": "stream",
          "text": [
            "X_train:  (323, 7)\n",
            "X_test:  (81, 7)\n",
            "y_train:  (323,)\n",
            "y_test:  (81,)\n",
            "70     1\n",
            "218    1\n",
            "384    1\n",
            "33     1\n",
            "42     1\n",
            "      ..\n",
            "45     1\n",
            "90     0\n",
            "249    0\n",
            "338    1\n",
            "373    1\n",
            "Name: Preference, Length: 81, dtype: int64\n"
          ],
          "name": "stdout"
        },
        {
          "output_type": "execute_result",
          "data": {
            "text/plain": [
              "1    71\n",
              "0    10\n",
              "Name: Preference, dtype: int64"
            ]
          },
          "metadata": {
            "tags": []
          },
          "execution_count": 175
        }
      ]
    },
    {
      "cell_type": "markdown",
      "metadata": {
        "id": "x7bRySiPtvSY"
      },
      "source": [
        "#**Train the dataset**"
      ]
    },
    {
      "cell_type": "code",
      "metadata": {
        "id": "_u1jX77ztuxO"
      },
      "source": [
        "# Importing Classifier Modules\n",
        "from sklearn.tree import DecisionTreeClassifier\n",
        "\n",
        "dt = DecisionTreeClassifier()\n",
        "dt.fit(X_train, y_train)\n",
        "y_pred = dt.predict(X_test)"
      ],
      "execution_count": null,
      "outputs": []
    },
    {
      "cell_type": "markdown",
      "metadata": {
        "id": "X0me4m9JuAuB"
      },
      "source": [
        "\n",
        "#**Performance evaluation**"
      ]
    },
    {
      "cell_type": "code",
      "metadata": {
        "colab": {
          "base_uri": "https://localhost:8080/"
        },
        "id": "BjWwDwkeuDaR",
        "outputId": "5322832d-2f76-4f2d-9bbc-694a4e486e45"
      },
      "source": [
        "from sklearn.metrics import confusion_matrix,classification_report\n",
        "print(confusion_matrix(y_test, y_pred))\n",
        "print(classification_report(y_test,y_pred))"
      ],
      "execution_count": null,
      "outputs": [
        {
          "output_type": "stream",
          "text": [
            "[[ 6  4]\n",
            " [ 2 69]]\n",
            "              precision    recall  f1-score   support\n",
            "\n",
            "           0       0.75      0.60      0.67        10\n",
            "           1       0.95      0.97      0.96        71\n",
            "\n",
            "    accuracy                           0.93        81\n",
            "   macro avg       0.85      0.79      0.81        81\n",
            "weighted avg       0.92      0.93      0.92        81\n",
            "\n"
          ],
          "name": "stdout"
        }
      ]
    },
    {
      "cell_type": "markdown",
      "metadata": {
        "id": "XS3JcNGEuJHR"
      },
      "source": [
        "#**Calculating accuracy using DecisionTreeClassifier**"
      ]
    },
    {
      "cell_type": "code",
      "metadata": {
        "colab": {
          "base_uri": "https://localhost:8080/"
        },
        "id": "SP0u_6VNuMWo",
        "outputId": "f8c7dffc-5c20-458e-98b7-ad89ad7dd8b3"
      },
      "source": [
        "from sklearn.metrics import accuracy_score\n",
        "print(accuracy_score(y_test, y_pred))"
      ],
      "execution_count": null,
      "outputs": [
        {
          "output_type": "stream",
          "text": [
            "0.9259259259259259\n"
          ],
          "name": "stdout"
        }
      ]
    },
    {
      "cell_type": "markdown",
      "metadata": {
        "id": "aF7gBvOiDtQ5"
      },
      "source": [
        "#**Train the dataset**"
      ]
    },
    {
      "cell_type": "code",
      "metadata": {
        "id": "Iy02s7CIDwJ7"
      },
      "source": [
        "from sklearn.ensemble import RandomForestClassifier\n",
        "\n",
        "dt = RandomForestClassifier()\n",
        "dt.fit(X_train, y_train)\n",
        "y_pred = dt.predict(X_test)"
      ],
      "execution_count": null,
      "outputs": []
    },
    {
      "cell_type": "markdown",
      "metadata": {
        "id": "qiyvVGggELEV"
      },
      "source": [
        "#**Performance evaluation**"
      ]
    },
    {
      "cell_type": "code",
      "metadata": {
        "colab": {
          "base_uri": "https://localhost:8080/"
        },
        "id": "9PFQZ83VDYt1",
        "outputId": "e6f92853-db07-492b-c738-9325937c1864"
      },
      "source": [
        "print(confusion_matrix(y_test, y_pred))\n",
        "print(classification_report(y_test,y_pred))"
      ],
      "execution_count": null,
      "outputs": [
        {
          "output_type": "stream",
          "text": [
            "[[ 5  5]\n",
            " [ 1 70]]\n",
            "              precision    recall  f1-score   support\n",
            "\n",
            "           0       0.83      0.50      0.62        10\n",
            "           1       0.93      0.99      0.96        71\n",
            "\n",
            "    accuracy                           0.93        81\n",
            "   macro avg       0.88      0.74      0.79        81\n",
            "weighted avg       0.92      0.93      0.92        81\n",
            "\n"
          ],
          "name": "stdout"
        }
      ]
    },
    {
      "cell_type": "markdown",
      "metadata": {
        "id": "CQCMKqrKEUlK"
      },
      "source": [
        "#**Calculating accuracy using RandomForest**"
      ]
    },
    {
      "cell_type": "code",
      "metadata": {
        "colab": {
          "base_uri": "https://localhost:8080/"
        },
        "id": "GmeCoY1CEUMx",
        "outputId": "0617258b-ae75-4117-acb8-23a13ded657a"
      },
      "source": [
        "print(accuracy_score(y_test, y_pred))"
      ],
      "execution_count": null,
      "outputs": [
        {
          "output_type": "stream",
          "text": [
            "0.9259259259259259\n"
          ],
          "name": "stdout"
        }
      ]
    },
    {
      "cell_type": "markdown",
      "metadata": {
        "id": "-XD7jUtaJM0G"
      },
      "source": [
        "#**Train the dataset**"
      ]
    },
    {
      "cell_type": "code",
      "metadata": {
        "id": "-OCnejhVH_Gp"
      },
      "source": [
        "from sklearn.neighbors import KNeighborsClassifier\n",
        "\n",
        "dt = KNeighborsClassifier()\n",
        "dt.fit(X_train, y_train)\n",
        "y_pred = dt.predict(X_test)"
      ],
      "execution_count": null,
      "outputs": []
    },
    {
      "cell_type": "markdown",
      "metadata": {
        "id": "vEhfxMPoJSYe"
      },
      "source": [
        "#**Performance evaluation**"
      ]
    },
    {
      "cell_type": "code",
      "metadata": {
        "id": "8TW86q0DJaxo",
        "colab": {
          "base_uri": "https://localhost:8080/"
        },
        "outputId": "02801610-dffb-4c02-e5f4-dd3ab4b13331"
      },
      "source": [
        "print(confusion_matrix(y_test, y_pred))\n",
        "print(classification_report(y_test,y_pred))"
      ],
      "execution_count": null,
      "outputs": [
        {
          "output_type": "stream",
          "text": [
            "[[ 6  4]\n",
            " [ 0 71]]\n",
            "              precision    recall  f1-score   support\n",
            "\n",
            "           0       1.00      0.60      0.75        10\n",
            "           1       0.95      1.00      0.97        71\n",
            "\n",
            "    accuracy                           0.95        81\n",
            "   macro avg       0.97      0.80      0.86        81\n",
            "weighted avg       0.95      0.95      0.95        81\n",
            "\n"
          ],
          "name": "stdout"
        }
      ]
    },
    {
      "cell_type": "markdown",
      "metadata": {
        "id": "SxyUaoTvJgWc"
      },
      "source": [
        "#**Calculating accuracy using KNeighborsClassifier**"
      ]
    },
    {
      "cell_type": "code",
      "metadata": {
        "id": "LvBATw0YJr50",
        "colab": {
          "base_uri": "https://localhost:8080/"
        },
        "outputId": "07e98b99-07df-4251-9d40-bee26ca02290"
      },
      "source": [
        "print(accuracy_score(y_test, y_pred))"
      ],
      "execution_count": null,
      "outputs": [
        {
          "output_type": "stream",
          "text": [
            "0.9506172839506173\n"
          ],
          "name": "stdout"
        }
      ]
    },
    {
      "cell_type": "markdown",
      "metadata": {
        "id": "LlXTUc6MKTBC"
      },
      "source": [
        "#**Train the dataset**"
      ]
    },
    {
      "cell_type": "code",
      "metadata": {
        "id": "uZtsAOMMKdwO"
      },
      "source": [
        "from sklearn.neural_network import MLPClassifier\n",
        "dt = MLPClassifier(hidden_layer_sizes=(1000, 300, 300), solver='adam', shuffle=False, tol = 0.0001)\n",
        "dt.fit(X_train, y_train)\n",
        "y_pred = dt.predict(X_test)"
      ],
      "execution_count": null,
      "outputs": []
    },
    {
      "cell_type": "markdown",
      "metadata": {
        "id": "VHzvd0gyKeCq"
      },
      "source": [
        "#**Performance evaluation**"
      ]
    },
    {
      "cell_type": "code",
      "metadata": {
        "id": "j2AVXoxHKkp4",
        "colab": {
          "base_uri": "https://localhost:8080/"
        },
        "outputId": "2756a122-fd5b-40c8-9f7e-ae324650f406"
      },
      "source": [
        "print(confusion_matrix(y_test, y_pred))\n",
        "print(classification_report(y_test,y_pred))"
      ],
      "execution_count": null,
      "outputs": [
        {
          "output_type": "stream",
          "text": [
            "[[ 5  5]\n",
            " [ 2 69]]\n",
            "              precision    recall  f1-score   support\n",
            "\n",
            "           0       0.71      0.50      0.59        10\n",
            "           1       0.93      0.97      0.95        71\n",
            "\n",
            "    accuracy                           0.91        81\n",
            "   macro avg       0.82      0.74      0.77        81\n",
            "weighted avg       0.91      0.91      0.91        81\n",
            "\n"
          ],
          "name": "stdout"
        }
      ]
    },
    {
      "cell_type": "markdown",
      "metadata": {
        "id": "uXVbbwzdKlGe"
      },
      "source": [
        "#**Calculating accuracy using MLPClassifier**\n",
        "\n",
        "---\n",
        "\n"
      ]
    },
    {
      "cell_type": "code",
      "metadata": {
        "id": "On3OhaPpKrFp",
        "colab": {
          "base_uri": "https://localhost:8080/"
        },
        "outputId": "5f085344-cee1-496e-ac0b-88e7a69cd5b6"
      },
      "source": [
        "print(accuracy_score(y_test, y_pred))"
      ],
      "execution_count": null,
      "outputs": [
        {
          "output_type": "stream",
          "text": [
            "0.9135802469135802\n"
          ],
          "name": "stdout"
        }
      ]
    },
    {
      "cell_type": "markdown",
      "metadata": {
        "id": "XfxaNKYuLICa"
      },
      "source": [
        "#**Train the dataset**"
      ]
    },
    {
      "cell_type": "code",
      "metadata": {
        "id": "T4nfeAQCLVJ_"
      },
      "source": [
        "from sklearn.cluster import KMeans\n",
        "df = KMeans()\n",
        "dt.fit(X_train, y_train)\n",
        "y_pred = dt.predict(X_test)"
      ],
      "execution_count": null,
      "outputs": []
    },
    {
      "cell_type": "markdown",
      "metadata": {
        "id": "hUWTfiSqLVeK"
      },
      "source": [
        "#**Performance evaluation**"
      ]
    },
    {
      "cell_type": "code",
      "metadata": {
        "id": "y1G4OnOzLZKG",
        "colab": {
          "base_uri": "https://localhost:8080/"
        },
        "outputId": "aa1571bd-3d41-4892-985d-a02b83ad0867"
      },
      "source": [
        "print(confusion_matrix(y_test, y_pred))\n",
        "print(classification_report(y_test,y_pred))"
      ],
      "execution_count": null,
      "outputs": [
        {
          "output_type": "stream",
          "text": [
            "[[ 6  4]\n",
            " [ 2 69]]\n",
            "              precision    recall  f1-score   support\n",
            "\n",
            "           0       0.75      0.60      0.67        10\n",
            "           1       0.95      0.97      0.96        71\n",
            "\n",
            "    accuracy                           0.93        81\n",
            "   macro avg       0.85      0.79      0.81        81\n",
            "weighted avg       0.92      0.93      0.92        81\n",
            "\n"
          ],
          "name": "stdout"
        }
      ]
    },
    {
      "cell_type": "markdown",
      "metadata": {
        "id": "22jdec9xLZgZ"
      },
      "source": [
        "#**Calculating accuracy using KMeans**"
      ]
    },
    {
      "cell_type": "code",
      "metadata": {
        "id": "SvYImiyRLdbC",
        "colab": {
          "base_uri": "https://localhost:8080/"
        },
        "outputId": "13ce69e6-5207-4a61-b606-3ed007df1640"
      },
      "source": [
        "print(accuracy_score(y_test, y_pred))"
      ],
      "execution_count": null,
      "outputs": [
        {
          "output_type": "stream",
          "text": [
            "0.9259259259259259\n"
          ],
          "name": "stdout"
        }
      ]
    }
  ]
}